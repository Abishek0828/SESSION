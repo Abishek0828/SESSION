{
  "nbformat": 4,
  "nbformat_minor": 0,
  "metadata": {
    "colab": {
      "name": "ML_PYTHON.ipynb",
      "provenance": []
    },
    "kernelspec": {
      "name": "python3",
      "display_name": "Python 3"
    }
  },
  "cells": [
    {
      "cell_type": "markdown",
      "metadata": {
        "id": "6znA78jTc3Oe"
      },
      "source": [
        "Machine Learning:\n",
        "\n",
        "Machine learning (ML) is the study of computer algorithms that improve automatically through experience and by the use of data. It is seen as a part of artificial intelligence. Machine learning algorithms build a model based on sample data, known as \"training data\", in order to make predictions or decisions without being explicitly programmed to do so"
      ]
    },
    {
      "cell_type": "markdown",
      "metadata": {
        "id": "TtcPk7aqlYc9"
      },
      "source": [
        "Types of ML\n",
        "\n",
        "\n",
        "\n",
        "*   Supervised Learning\n",
        "*   Unsupervised learning\n",
        "*   Reinforcement Learning\n",
        "\n",
        "\n",
        "\n",
        "\n",
        "\n"
      ]
    },
    {
      "cell_type": "markdown",
      "metadata": {
        "id": "fIP4FurvdZHp"
      },
      "source": [
        "Supervised Learning: \n",
        "\n",
        "Supervised learning algorithms build a mathematical model of a set of data that contains both the inputs and the desired outputs.The data is known as training data, and consists of a set of training examples. Each training example has one or more inputs and the desired output"
      ]
    },
    {
      "cell_type": "markdown",
      "metadata": {
        "id": "IvXjruuddbTN"
      },
      "source": [
        "Unsupervised learning:\n",
        "\n",
        "Unsupervised learning algorithms take a set of data that contains only inputs, and find structure in the data, like grouping or clustering of data points. The algorithms, therefore, learn from test data that has not been labeled, classified or categorized. Instead of responding to feedback, unsupervised learning algorithms identify commonalities in the data and react based on the presence or absence of such commonalities in each new piece of data"
      ]
    },
    {
      "cell_type": "markdown",
      "metadata": {
        "id": "bZgqwfn6dwj-"
      },
      "source": [
        "Reinforcement Learning:\n",
        "\n",
        "Reinforcement learning is an area of machine learning concerned with how software agents ought to take actions in an environment so as to maximize some notion of cumulative reward. Reinforcement learning algorithms are used in autonomous vehicles or in learning to play a game against a human opponent."
      ]
    },
    {
      "cell_type": "markdown",
      "metadata": {
        "id": "jDczMYBUd8MU"
      },
      "source": [
        "Neural Networks:\n",
        "\n",
        "Neural Networks are computing systems inspired by the biological neural networks that constitute animal brains. Such systems learn to do tasks by considering examples, generally without task-specific programming. \n",
        "\n",
        "For example, in image recognition, they might learn to identify images that contain cats by analyzing example images that have been manually labeled as \"human\" or \"no human\" and using the analytic results to identify cats in other images. They have found most use in applications difficult to express with a traditional computer algorithm using rule-based programming."
      ]
    },
    {
      "cell_type": "code",
      "metadata": {
        "colab": {
          "base_uri": "https://localhost:8080/",
          "height": 359
        },
        "id": "opj6JbpWfuNj",
        "outputId": "e7717351-23cb-4068-9b9d-b2b6512ff15f"
      },
      "source": [
        "import pandas as pd\n",
        "import numpy as np\n",
        "\n",
        "df = pd.DataFrame([[181,80,44],[177,90,43],[198,70,54],[182,79,43],[199,69,32],[175,75,43],[200,88,50],[188,52,10],[195,99,52],[185,59,32]], \n",
        "                  columns=[['Height', 'Weight', 'Shoe_size']])\n",
        "df['Gender'] = np.array(('male','female','female','male','female','male','male','female','male','female'))\n",
        "df"
      ],
      "execution_count": 1,
      "outputs": [
        {
          "output_type": "execute_result",
          "data": {
            "text/html": [
              "<div>\n",
              "<style scoped>\n",
              "    .dataframe tbody tr th:only-of-type {\n",
              "        vertical-align: middle;\n",
              "    }\n",
              "\n",
              "    .dataframe tbody tr th {\n",
              "        vertical-align: top;\n",
              "    }\n",
              "\n",
              "    .dataframe thead tr th {\n",
              "        text-align: left;\n",
              "    }\n",
              "</style>\n",
              "<table border=\"1\" class=\"dataframe\">\n",
              "  <thead>\n",
              "    <tr>\n",
              "      <th></th>\n",
              "      <th>Height</th>\n",
              "      <th>Weight</th>\n",
              "      <th>Shoe_size</th>\n",
              "      <th>Gender</th>\n",
              "    </tr>\n",
              "  </thead>\n",
              "  <tbody>\n",
              "    <tr>\n",
              "      <th>0</th>\n",
              "      <td>181</td>\n",
              "      <td>80</td>\n",
              "      <td>44</td>\n",
              "      <td>male</td>\n",
              "    </tr>\n",
              "    <tr>\n",
              "      <th>1</th>\n",
              "      <td>177</td>\n",
              "      <td>90</td>\n",
              "      <td>43</td>\n",
              "      <td>female</td>\n",
              "    </tr>\n",
              "    <tr>\n",
              "      <th>2</th>\n",
              "      <td>198</td>\n",
              "      <td>70</td>\n",
              "      <td>54</td>\n",
              "      <td>female</td>\n",
              "    </tr>\n",
              "    <tr>\n",
              "      <th>3</th>\n",
              "      <td>182</td>\n",
              "      <td>79</td>\n",
              "      <td>43</td>\n",
              "      <td>male</td>\n",
              "    </tr>\n",
              "    <tr>\n",
              "      <th>4</th>\n",
              "      <td>199</td>\n",
              "      <td>69</td>\n",
              "      <td>32</td>\n",
              "      <td>female</td>\n",
              "    </tr>\n",
              "    <tr>\n",
              "      <th>5</th>\n",
              "      <td>175</td>\n",
              "      <td>75</td>\n",
              "      <td>43</td>\n",
              "      <td>male</td>\n",
              "    </tr>\n",
              "    <tr>\n",
              "      <th>6</th>\n",
              "      <td>200</td>\n",
              "      <td>88</td>\n",
              "      <td>50</td>\n",
              "      <td>male</td>\n",
              "    </tr>\n",
              "    <tr>\n",
              "      <th>7</th>\n",
              "      <td>188</td>\n",
              "      <td>52</td>\n",
              "      <td>10</td>\n",
              "      <td>female</td>\n",
              "    </tr>\n",
              "    <tr>\n",
              "      <th>8</th>\n",
              "      <td>195</td>\n",
              "      <td>99</td>\n",
              "      <td>52</td>\n",
              "      <td>male</td>\n",
              "    </tr>\n",
              "    <tr>\n",
              "      <th>9</th>\n",
              "      <td>185</td>\n",
              "      <td>59</td>\n",
              "      <td>32</td>\n",
              "      <td>female</td>\n",
              "    </tr>\n",
              "  </tbody>\n",
              "</table>\n",
              "</div>"
            ],
            "text/plain": [
              "  Height Weight Shoe_size  Gender\n",
              "0    181     80        44    male\n",
              "1    177     90        43  female\n",
              "2    198     70        54  female\n",
              "3    182     79        43    male\n",
              "4    199     69        32  female\n",
              "5    175     75        43    male\n",
              "6    200     88        50    male\n",
              "7    188     52        10  female\n",
              "8    195     99        52    male\n",
              "9    185     59        32  female"
            ]
          },
          "metadata": {
            "tags": []
          },
          "execution_count": 1
        }
      ]
    },
    {
      "cell_type": "code",
      "metadata": {
        "colab": {
          "base_uri": "https://localhost:8080/",
          "height": 319
        },
        "id": "mGIoM-9BiH4j",
        "outputId": "d16467f1-c716-4d50-feef-322209d17537"
      },
      "source": [
        "import matplotlib.pyplot as plt\n",
        "import seaborn as sns\n",
        "from sklearn.datasets.samples_generator import make_blobs\n",
        "X, y_true = make_blobs(n_samples=300, centers=4,\n",
        "                       cluster_std=0.60, random_state=0)\n",
        "plt.scatter(X[:, 0], X[:, 1], s=50);"
      ],
      "execution_count": 2,
      "outputs": [
        {
          "output_type": "stream",
          "text": [
            "/usr/local/lib/python3.7/dist-packages/sklearn/utils/deprecation.py:144: FutureWarning: The sklearn.datasets.samples_generator module is  deprecated in version 0.22 and will be removed in version 0.24. The corresponding classes / functions should instead be imported from sklearn.datasets. Anything that cannot be imported from sklearn.datasets is now part of the private API.\n",
            "  warnings.warn(message, FutureWarning)\n"
          ],
          "name": "stderr"
        },
        {
          "output_type": "display_data",
          "data": {
            "image/png": "[encoded data removed]",
            "text/plain": [
              "<Figure size 432x288 with 1 Axes>"
            ]
          },
          "metadata": {
            "tags": [],
            "needs_background": "light"
          }
        }
      ]
    },
    {
      "cell_type": "markdown",
      "metadata": {
        "id": "v56SyqgMrToI"
      },
      "source": [
        "Importing Libraries:\n"
      ]
    },
    {
      "cell_type": "code",
      "metadata": {
        "id": "5_OlXKF1q9gR"
      },
      "source": [
        "import pandas as pd \n",
        "import numpy as np\n"
      ],
      "execution_count": null,
      "outputs": []
    },
    {
      "cell_type": "markdown",
      "metadata": {
        "id": "SG8O2siPrvaR"
      },
      "source": [
        "Exploring the Data:"
      ]
    },
    {
      "cell_type": "code",
      "metadata": {
        "id": "dAXHpdo7ryq7"
      },
      "source": [
        "from sklearn.datasets import load_iris\n",
        "iris_dataset = load_iris()\n"
      ],
      "execution_count": null,
      "outputs": []
    },
    {
      "cell_type": "markdown",
      "metadata": {
        "id": "1mk77T05r_rm"
      },
      "source": [
        "The iris object that is returned by load_iris is a Bunch object, which is very similar to a dictionary. It contains keys and values:\n"
      ]
    },
    {
      "cell_type": "code",
      "metadata": {
        "colab": {
          "base_uri": "https://localhost:8080/"
        },
        "id": "H7sGeo7LsESu",
        "outputId": "d1c48ba4-521b-4775-8acd-0b26c905ad24"
      },
      "source": [
        "print(\"Keys of iris_dataset: \\n{}\".format(iris_dataset.keys()))"
      ],
      "execution_count": null,
      "outputs": [
        {
          "output_type": "stream",
          "text": [
            "Keys of iris_dataset: \n",
            "dict_keys(['data', 'target', 'target_names', 'DESCR', 'feature_names', 'filename'])\n"
          ],
          "name": "stdout"
        }
      ]
    },
    {
      "cell_type": "markdown",
      "metadata": {
        "id": "jUTKy-Urs6EL"
      },
      "source": [
        "The value of the key DESCR is a short description of the dataset. Lets look at what it contains:\n"
      ]
    },
    {
      "cell_type": "code",
      "metadata": {
        "colab": {
          "base_uri": "https://localhost:8080/"
        },
        "id": "atksRrqltAci",
        "outputId": "2ba9f357-cd9d-41f3-f783-80ef4e821d7c"
      },
      "source": [
        "print(iris_dataset['DESCR'][:193] + \"\\n...\")\n"
      ],
      "execution_count": null,
      "outputs": [
        {
          "output_type": "stream",
          "text": [
            ".. _iris_dataset:\n",
            "\n",
            "Iris plants dataset\n",
            "--------------------\n",
            "\n",
            "**Data Set Characteristics:**\n",
            "\n",
            "    :Number of Instances: 150 (50 in each of three classes)\n",
            "    :Number of Attributes: 4 numeric, pre\n",
            "...\n"
          ],
          "name": "stdout"
        }
      ]
    },
    {
      "cell_type": "markdown",
      "metadata": {
        "id": "ktTC918FtMiR"
      },
      "source": [
        "As we can see it contains some information about the dataset itself, feel free to go through it to understand more about the dataset\n",
        "\n",
        "Lets move on to the target_names.\n",
        "\n",
        "The value of the key target_names is an array of strings, containing the species of flower that we want to predict ie. setosa', versicolor' and 'virginica'\n"
      ]
    },
    {
      "cell_type": "code",
      "metadata": {
        "colab": {
          "base_uri": "https://localhost:8080/"
        },
        "id": "XDLfOAwztihR",
        "outputId": "0025b108-c5f7-4d2b-bba3-5e7b59c4a4bf"
      },
      "source": [
        "print(\"Target names: {}\".format(iris_dataset['target_names']))\n"
      ],
      "execution_count": null,
      "outputs": [
        {
          "output_type": "stream",
          "text": [
            "Target names: ['setosa' 'versicolor' 'virginica']\n"
          ],
          "name": "stdout"
        }
      ]
    },
    {
      "cell_type": "markdown",
      "metadata": {
        "id": "rHQVM-3itwwQ"
      },
      "source": [
        "Next in line is the feature_names\n",
        "\n",
        "The value of feature_names is a list of strings, giving the description of each feature it includes the sepal length, sepal width, 'petal length' and the 'petal width' all in centimeters.\n"
      ]
    },
    {
      "cell_type": "code",
      "metadata": {
        "colab": {
          "base_uri": "https://localhost:8080/"
        },
        "id": "g0V4pLvft7lJ",
        "outputId": "ed9fc322-ca52-4131-9bec-6793824d9c07"
      },
      "source": [
        "print(\"Feature names: \\n{}\".format(iris_dataset['feature_names']))\n"
      ],
      "execution_count": null,
      "outputs": [
        {
          "output_type": "stream",
          "text": [
            "Feature names: \n",
            "['sepal length (cm)', 'sepal width (cm)', 'petal length (cm)', 'petal width (cm)']\n"
          ],
          "name": "stdout"
        }
      ]
    },
    {
      "cell_type": "markdown",
      "metadata": {
        "id": "okcOZPGfuMN_"
      },
      "source": [
        "The data that we are going to use is itself contained in the target and data fields. The data contains numeric measurements of sepal length, sepal width, petal length, and petal width in a NumPy array:\n"
      ]
    },
    {
      "cell_type": "code",
      "metadata": {
        "colab": {
          "base_uri": "https://localhost:8080/"
        },
        "id": "LeoDaQAauWro",
        "outputId": "0321a3b0-57dd-438f-b594-be7fd3307e22"
      },
      "source": [
        "print(\"Type of data: {}\".format(type(iris_dataset['data'])))\n"
      ],
      "execution_count": null,
      "outputs": [
        {
          "output_type": "stream",
          "text": [
            "Type of data: <class 'numpy.ndarray'>\n"
          ],
          "name": "stdout"
        }
      ]
    },
    {
      "cell_type": "markdown",
      "metadata": {
        "id": "bTMPmIy8ufZG"
      },
      "source": [
        "The rows in this data array correspond to the flowers, while the columns represent the four measurements that were taken for each flower:\n"
      ]
    },
    {
      "cell_type": "code",
      "metadata": {
        "colab": {
          "base_uri": "https://localhost:8080/"
        },
        "id": "4_MtGX62ulHe",
        "outputId": "8afe93c3-0404-4c8c-d48d-cad421a2e50f"
      },
      "source": [
        "print(\"Shape of data: {}\".format(iris_dataset['data'].shape))\n"
      ],
      "execution_count": null,
      "outputs": [
        {
          "output_type": "stream",
          "text": [
            "Shape of data: (150, 4)\n"
          ],
          "name": "stdout"
        }
      ]
    },
    {
      "cell_type": "markdown",
      "metadata": {
        "id": "4bzHClg2u00s"
      },
      "source": [
        "The array contains measurements for 150 different flowers. Remember that the individual items are called samples/data points in machine learning, and their properties are called features. So we have 150 data points and 4 features. The shape of the data array is the number of samples multiplied by the number of features. This is a convention in scikit-learn, and your data will always be assumed to be in this shape. Here are the feature values for the first five samples:\n"
      ]
    },
    {
      "cell_type": "code",
      "metadata": {
        "colab": {
          "base_uri": "https://localhost:8080/"
        },
        "id": "KaDYEFGfvFpc",
        "outputId": "1569e00b-395a-4f0d-e17b-702a11a92831"
      },
      "source": [
        "print(\"First five columns of data:\\n{}\".format(iris_dataset['data'][:5]))\n"
      ],
      "execution_count": null,
      "outputs": [
        {
          "output_type": "stream",
          "text": [
            "First five columns of data:\n",
            "[[5.1 3.5 1.4 0.2]\n",
            " [4.9 3.  1.4 0.2]\n",
            " [4.7 3.2 1.3 0.2]\n",
            " [4.6 3.1 1.5 0.2]\n",
            " [5.  3.6 1.4 0.2]]\n"
          ],
          "name": "stdout"
        }
      ]
    },
    {
      "cell_type": "markdown",
      "metadata": {
        "id": "a29jqBi_vlLt"
      },
      "source": [
        "From this data, we can see that all of the first five flowers have a petal width of 0.2 cm and that the first flower has the longest sepal, at 5.1 cm. So we can make this output in the form of a table and hence you can understand that which column represents which feature, lets come to the last key ie the target array contains the species of each of the flowers that were measured, also as a NumPy array:\n"
      ]
    },
    {
      "cell_type": "code",
      "metadata": {
        "colab": {
          "base_uri": "https://localhost:8080/"
        },
        "id": "vJ9nbIeTvt4R",
        "outputId": "d180beb8-3657-42f2-f31a-a3dfd41bf908"
      },
      "source": [
        "print(\"Type of target: {}\".format(type(iris_dataset['target'])))\n"
      ],
      "execution_count": null,
      "outputs": [
        {
          "output_type": "stream",
          "text": [
            "Type of target: <class 'numpy.ndarray'>\n"
          ],
          "name": "stdout"
        }
      ]
    },
    {
      "cell_type": "markdown",
      "metadata": {
        "id": "_4575SXJwBV5"
      },
      "source": [
        "target is a one-dimensional array, and on seeing the shape we can see that it contains one entry per flower.\n"
      ]
    },
    {
      "cell_type": "code",
      "metadata": {
        "colab": {
          "base_uri": "https://localhost:8080/"
        },
        "id": "28uBQXJ_wMlY",
        "outputId": "69f17ce7-1ccd-4af4-ccde-da720adadc38"
      },
      "source": [
        "print(\"Shape of target: {}\".format(iris_dataset['target'].shape))\n"
      ],
      "execution_count": null,
      "outputs": [
        {
          "output_type": "stream",
          "text": [
            "Shape of target: (150,)\n"
          ],
          "name": "stdout"
        }
      ]
    },
    {
      "cell_type": "markdown",
      "metadata": {
        "id": "6K_DMCBBwZ84"
      },
      "source": [
        "On seeing the target key and exploring the values we can easily see that The species are encoded as integers from 0 to 2\n"
      ]
    },
    {
      "cell_type": "code",
      "metadata": {
        "colab": {
          "base_uri": "https://localhost:8080/"
        },
        "id": "u_ZcX5tlwis5",
        "outputId": "0c22379d-17a9-4a7c-9c39-a623cb0e447e"
      },
      "source": [
        "print(\"Target:\\n{}\".format(iris_dataset['target']))\n"
      ],
      "execution_count": null,
      "outputs": [
        {
          "output_type": "stream",
          "text": [
            "Target:\n",
            "[0 0 0 0 0 0 0 0 0 0 0 0 0 0 0 0 0 0 0 0 0 0 0 0 0 0 0 0 0 0 0 0 0 0 0 0 0\n",
            " 0 0 0 0 0 0 0 0 0 0 0 0 0 1 1 1 1 1 1 1 1 1 1 1 1 1 1 1 1 1 1 1 1 1 1 1 1\n",
            " 1 1 1 1 1 1 1 1 1 1 1 1 1 1 1 1 1 1 1 1 1 1 1 1 1 1 2 2 2 2 2 2 2 2 2 2 2\n",
            " 2 2 2 2 2 2 2 2 2 2 2 2 2 2 2 2 2 2 2 2 2 2 2 2 2 2 2 2 2 2 2 2 2 2 2 2 2\n",
            " 2 2]\n"
          ],
          "name": "stdout"
        }
      ]
    },
    {
      "cell_type": "markdown",
      "metadata": {
        "id": "XpSXJ-F71s93"
      },
      "source": [
        "The meanings of the numbers are given by the iris['target_names'] array: 0 means setosa, 1 means versicolor, and 2 means virginica\n",
        "\n"
      ]
    },
    {
      "cell_type": "markdown",
      "metadata": {
        "id": "WNb5xKIu11VX"
      },
      "source": [
        "Measuring Success: Training and Testing Data:"
      ]
    },
    {
      "cell_type": "code",
      "metadata": {
        "id": "IC4p7Tdv1-Dj"
      },
      "source": [
        "from sklearn.model_selection import train_test_split\n",
        "X_train, X_test, y_train, y_test = train_test_split(\n",
        "    iris_dataset['data'], iris_dataset['target'], random_state=0)\n"
      ],
      "execution_count": null,
      "outputs": []
    },
    {
      "cell_type": "markdown",
      "metadata": {
        "id": "n-BJb4-32nIO"
      },
      "source": [
        "Before making the split, the train_test_split function shuffles the dataset using a pseudorandom number generator. To make sure that we will get the same output if we run the same function several times, we provide the pseudorandom number generator with a fixed seed using the random_state parameter.\n",
        "\n",
        "The output of the train_test_split function is X_train, X_test, y_train, and y_test which are all NumPy arrays. X_train contains 75% of the rows of the dataset, and X_test contains the remaining 25%\n"
      ]
    },
    {
      "cell_type": "code",
      "metadata": {
        "colab": {
          "base_uri": "https://localhost:8080/"
        },
        "id": "thzyL6ok2xvD",
        "outputId": "ee775f99-3415-41a6-af2c-0976bb4aca16"
      },
      "source": [
        "print(\"X_train shape: {}\".format(X_train.shape))\n",
        "print(\"y_train shape: {}\".format(y_train.shape))\n",
        "print(\"X_test shape: {}\".format(X_test.shape))\n",
        "print(\"y_test shape: {}\".format(y_test.shape))\n"
      ],
      "execution_count": null,
      "outputs": [
        {
          "output_type": "stream",
          "text": [
            "X_train shape: (112, 4)\n",
            "y_train shape: (112,)\n",
            "X_test shape: (38, 4)\n",
            "y_test shape: (38,)\n"
          ],
          "name": "stdout"
        }
      ]
    },
    {
      "cell_type": "markdown",
      "metadata": {
        "id": "EvL2rJR538-C"
      },
      "source": [
        "K- nearest neighbour classifier\n"
      ]
    },
    {
      "cell_type": "code",
      "metadata": {
        "id": "Ja0lPQbi3_6Q"
      },
      "source": [
        "from sklearn.neighbors import KNeighborsClassifier\n",
        "knn =  KNeighborsClassifier(n_neighbors=1)\n"
      ],
      "execution_count": null,
      "outputs": []
    },
    {
      "cell_type": "markdown",
      "metadata": {
        "id": "PE-T8h2S4R-n"
      },
      "source": [
        "The knn object encapsulates the algorithm that will be used to build the model from the training data, as well the algorithm to make predictions on new data points. It will also hold the information that the algorithm has extracted from the training data. In the case of KNeighborsClassifier, it will just store the training set. To build the model on the training set, we call the fit method of the knn object, which takes as arguments the NumPy array X_train containing the training data and the NumPy array y_train of the corresponding training labels:\n"
      ]
    },
    {
      "cell_type": "code",
      "metadata": {
        "colab": {
          "base_uri": "https://localhost:8080/"
        },
        "id": "YqGGh6ur4VLI",
        "outputId": "8cac84e8-ae61-493f-edf1-3eb5ef32db89"
      },
      "source": [
        "knn.fit(X_train, y_train)\n"
      ],
      "execution_count": null,
      "outputs": [
        {
          "output_type": "execute_result",
          "data": {
            "text/plain": [
              "KNeighborsClassifier(algorithm='auto', leaf_size=30, metric='minkowski',\n",
              "                     metric_params=None, n_jobs=None, n_neighbors=1, p=2,\n",
              "                     weights='uniform')"
            ]
          },
          "metadata": {
            "tags": []
          },
          "execution_count": 29
        }
      ]
    },
    {
      "cell_type": "markdown",
      "metadata": {
        "id": "d-8iWc6t4mbv"
      },
      "source": [
        "Making Predictions\n"
      ]
    },
    {
      "cell_type": "markdown",
      "metadata": {
        "id": "TsGdvH474nTx"
      },
      "source": [
        "Now make predictions using this model on new data for which we might not know the correct labels. Imagine we found an iris in the wild with a sepal length of 5 cm, a sepal width of 2.9 cm, a petal length of 1 cm, and a petal width of 0.2 cm. What species of iris would this be? We can put this data into a NumPy array, again by calculating the shape-that is, the number of samples (1) multiplied by the number of features (4):"
      ]
    },
    {
      "cell_type": "code",
      "metadata": {
        "colab": {
          "base_uri": "https://localhost:8080/"
        },
        "id": "QvjaIYKL41l_",
        "outputId": "9c369757-699d-4e93-9371-81bb7247881d"
      },
      "source": [
        "X_new = np.array([[5, 2.9, 1, 0.2]])\n",
        "\n",
        "print(\"X_new.shape: {}\".format (X_new.shape))\n"
      ],
      "execution_count": null,
      "outputs": [
        {
          "output_type": "stream",
          "text": [
            "X_new.shape: (1, 4)\n"
          ],
          "name": "stdout"
        }
      ]
    },
    {
      "cell_type": "markdown",
      "metadata": {
        "id": "8Fem92b15RFH"
      },
      "source": [
        "To make a prediction, we call the predict method of the knn object:"
      ]
    },
    {
      "cell_type": "code",
      "metadata": {
        "colab": {
          "base_uri": "https://localhost:8080/"
        },
        "id": "T6LU7WZQ5TaE",
        "outputId": "4f08e30e-aded-498f-e31b-09ca495cfd3b"
      },
      "source": [
        "prediction = knn.predict(X_new)\n",
        "\n",
        "print(\"Prediction: {}\".format(prediction))\n",
        "print(\"Predicted target name: {}\".format(\n",
        "    iris_dataset['target_names'][prediction]))\n"
      ],
      "execution_count": null,
      "outputs": [
        {
          "output_type": "stream",
          "text": [
            "Prediction: [0]\n",
            "Predicted target name: ['setosa']\n"
          ],
          "name": "stdout"
        }
      ]
    },
    {
      "cell_type": "markdown",
      "metadata": {
        "id": "qZTLJCML7Gd-"
      },
      "source": [
        "We don't know the cor-rect species of this sample, which is the whole point of building the model!\n"
      ]
    },
    {
      "cell_type": "markdown",
      "metadata": {
        "id": "UFMQ5xvL7Njm"
      },
      "source": [
        "Evaluating the Model:"
      ]
    },
    {
      "cell_type": "markdown",
      "metadata": {
        "id": "1eVzaNTp7Qw-"
      },
      "source": [
        "This is where the test set that we created earlier comes in. This data was not used to build the model, but we do know what the correct species is for each iris in the test set.\n",
        "\n",
        "Therefore, make a prediction for each iris in the test data and compare it against its label (the known species). We can measure how well the model works by computing the accuracy, which is the fraction of flowers for which the right species was predicted:\n"
      ]
    },
    {
      "cell_type": "code",
      "metadata": {
        "colab": {
          "base_uri": "https://localhost:8080/"
        },
        "id": "p_OPeCST7b8W",
        "outputId": "2c86a6c5-bc07-4eac-fd57-07317852c399"
      },
      "source": [
        "y_pred = knn.predict(X_test)\n",
        "print(\"Test set predictions: \\n {}\".format(y_pred))\n",
        "\n"
      ],
      "execution_count": null,
      "outputs": [
        {
          "output_type": "stream",
          "text": [
            "Test set predictions: \n",
            " [2 1 0 2 0 2 0 1 1 1 2 1 1 1 1 0 1 1 0 0 2 1 0 0 2 0 0 1 1 0 2 1 0 2 2 1 0\n",
            " 2]\n"
          ],
          "name": "stdout"
        }
      ]
    },
    {
      "cell_type": "code",
      "metadata": {
        "colab": {
          "base_uri": "https://localhost:8080/"
        },
        "id": "iwVsjD4H7qPE",
        "outputId": "199679ce-ed67-4942-e255-1779e39f0247"
      },
      "source": [
        "print(\"Test set score: {}\".format(np.mean(y_pred == y_test)))"
      ],
      "execution_count": null,
      "outputs": [
        {
          "output_type": "stream",
          "text": [
            "Test set score: 0.9736842105263158\n"
          ],
          "name": "stdout"
        }
      ]
    }
  ]
}