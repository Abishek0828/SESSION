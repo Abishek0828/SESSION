{
  "nbformat": 4,
  "nbformat_minor": 0,
  "metadata": {
    "colab": {
      "name": "Session_02.ipynb",
      "provenance": [],
      "collapsed_sections": []
    },
    "kernelspec": {
      "name": "python3",
      "display_name": "Python 3"
    },
    "language_info": {
      "name": "python"
    }
  },
  "cells": [
    {
      "cell_type": "markdown",
      "metadata": {
        "id": "kTEMiFVMrmRU"
      },
      "source": [
        "# Neural Networks -- Deep learning"
      ]
    },
    {
      "cell_type": "markdown",
      "metadata": {
        "id": "S6k_yPfUTN7J"
      },
      "source": [
        "# Thershold\n",
        "\n",
        "y > 0 = 1\n",
        "\n",
        "y = 0 = 0\n",
        "\n",
        "y < 0 = -1\n",
        "\n"
      ]
    },
    {
      "cell_type": "markdown",
      "metadata": {
        "id": "3QMHNq0MyCVx"
      },
      "source": [
        "| X1  | X2  | Y = output | W1 | W2 | B |\n",
        "| --- | --- | ------ | -- | -- | - |\n",
        "| 1   | -1   | 1      |  0  |0    | 0  |\n",
        "| -1   | 1 | 1    |    |    |   |\n",
        "| 1 | 1   | 1    |    |    |   |\n",
        "| -1 | -1 | -1    |    |    |"
      ]
    },
    {
      "cell_type": "markdown",
      "metadata": {
        "id": "wM0JD_Z-3K6f"
      },
      "source": [
        "## *y = w1x1 + w2x2 + b*\n",
        "\n",
        "*w1(new) = w1(old) + x1y*\n",
        "\n",
        "*w2(new) = w2(old) + x2y* <br>\n",
        "\n",
        "*b(new)  = b(old) + y*"
      ]
    },
    {
      "cell_type": "markdown",
      "metadata": {
        "id": "RyiZyHj14v-G"
      },
      "source": [
        "\n",
        "\n",
        "w1 = 0 + -1* 1=-1\n",
        "\n",
        "w2 = 0 + 1* 1=1\n",
        "\n",
        "b = 0 + 1=1\n",
        "\n",
        "| X1  | X2  | output | W1 | W2 | B |\n",
        "| --- | --- | ------ | -- | -- | - |\n",
        "| 1   | -1   | 1      | 0  | 0  | 0 |\n",
        "| -1   | 1 | 1    | -1   | 1   | 1  |\n",
        "| 1 | 1   | 1    |    |    |   |\n",
        "| -1 | -1 | -1    |    |    |   | "
      ]
    },
    {
      "cell_type": "markdown",
      "metadata": {
        "id": "BGLVB3UG6tyJ"
      },
      "source": [
        "*y = w1x1 + w2x2 + b*\n",
        "\n",
        "*w1(new) = w1(old) + x1y*\n",
        "\n",
        "*w2(new) = w2(old) + x2y* <br>\n",
        "\n",
        "*b(new)  = b(old) + y*\n",
        "\n",
        "\n",
        "\n",
        "\n",
        "\n",
        "w1 = -1 + 1* 1=0\n",
        "\n",
        "w2 = 1 + 1* 1=2\n",
        "\n",
        "b = 1 + 1=2\n",
        "\n",
        "| X1  | X2  | output | W1 | W2 | B |\n",
        "| --- | --- | ------ | -- | -- | - |\n",
        "| 1   | -1   | 1      | 0  | 0  |0 |\n",
        "| -1   | 1 | 1    | -1  | 1  | 1 |\n",
        "| 1 | 1   | 1    | 0   | 2   |2  |\n",
        "| -1 | -1 | -1    |    |    |   | "
      ]
    },
    {
      "cell_type": "markdown",
      "metadata": {
        "id": "RlRXPjtZVams"
      },
      "source": [
        "y = w1x1 + w2x2 + b*\n",
        "\n",
        "*w1(new) = w1(old) + x1y*\n",
        "\n",
        "*w2(new) = w2(old) + x2y* <br>\n",
        "\n",
        "*b(new)  = b(old) + y*\n",
        "\n",
        "\n",
        "w1 = 0 + -1* -1=1\n",
        "\n",
        "w2 = 2 + -1* -1=3\n",
        "\n",
        "b = 2 -1=1\n",
        "\n",
        "| X1  | X2  | output | W1 | W2 | B |\n",
        "| --- | --- | ------ | -- | -- | - |\n",
        "| 1   | -1   | 1      | 0  | 0  | 0 |\n",
        "| -1   | 1 | 1    | -1  | 1  | 1 |\n",
        "| 1 | 1   | 1    | 0  | 2  | 2|\n",
        "| -1 | -1 | -1    | 1   | 3   | 1  | "
      ]
    },
    {
      "cell_type": "markdown",
      "metadata": {
        "id": "E1zTpt5gO-yM"
      },
      "source": [
        "#Testing for all condisions\n",
        "\n",
        "\n",
        "y = w1x1 + w2x2 + b\n",
        "\n",
        "1  = 0*1 + 0*-1 + 0 = 0\n",
        "expected output is 1 so update the weights \n",
        "\n",
        "1 = -1*-1 + 1*1 + 1 = 3>0 = 1\n",
        "\n",
        "1 = 0*1 + 2*1 + 2 = 4>0 = 1 \n",
        "\n",
        "-1 = 1*-1 + 3*-1 + 1 = -3<0 = -1"
      ]
    }
  ]
}