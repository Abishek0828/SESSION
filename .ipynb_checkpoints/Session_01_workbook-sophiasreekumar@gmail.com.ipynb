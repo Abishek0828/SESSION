{
 "cells": [
  {
   "cell_type": "markdown",
   "metadata": {
    "id": "Vsr0RuxF8gTt"
   },
   "source": [
    "#Workouts for the ML intro session\n"
   ]
  },
  {
   "cell_type": "markdown",
   "metadata": {
    "id": "VMrfCQbT8t-K"
   },
   "source": [
    "##Complete all the cells and upload the note book to github\n",
    "\n",
    "**Kindly use your own explanations and examples. you refer the internet but try to explain things with your own words and examples**\n"
   ]
  },
  {
   "cell_type": "markdown",
   "metadata": {
    "id": "4TiM_moD8-V_"
   },
   "source": [
    "\n",
    "\n",
    "1.  Will machine overtake humans in near future ? if yes explain why ? if not explain what prevents machines to learn/perform at human level ?\n",
    "\n",
    "    My answer will be no.Because humans are creating and giving knowledge to the machines,not machine is giving us the brain.If machine is growing at rapid rate,of course humans will also sharpen their mind.As machines will take less time to complete the work when compared to us,they are treated as they can replace humans."

   ]
  },
  {
   "cell_type": "markdown",
   "metadata": {
    "id": "W9aIe-Pl9uED"
   },
   "source": [
    "2. What recent development you think is very important or inspiring in machine learning/AI field ? just few words on any one or two\n",
    "    I will choose Natural language processing by AI,specially google's model BERT.It is recognizing any languages in casual form.so it is more easy for all the people to clarify their queries."
   ]
  },
  {
   "cell_type": "markdown",
   "metadata": {
    "id": "XcQoFPwg-ChB"
   },
   "source": [
    "3. What is the differnce between regular programming or machine learning ?\n",
    "   In regular(traditional) programming , the programmer(user) has to manually formulate/code the rules to solve the problem,while in Machine Learning the algorithms automatically formulate the rules from the given data, which makes all very easy."
   ]
  },
  {
   "cell_type": "markdown",
   "metadata": {
    "id": "gJXmTK0r-Ydb"
   },
   "source": [
    "4. What is model is machine learning ?\n",
    "    Model creates during training process of the machines.A model represents what was learned by a ML algorithm."
   ]
  },
  {
   "cell_type": "markdown",
   "metadata": {
    "id": "XGuClocF-dRX"
   },
   "source": [
    "5. how/where machine learning stores its learning ? \n",
    "    It stors their learning in databases."
   ]
  },
  {
   "cell_type": "markdown",
   "metadata": {
    "id": "SFVwc5jC-oDE"
   },
   "source": [
    "6. What is training ?\n",
    "    Teaching the machines with some of the datas to predict something by the machines."
   ]
  },
  {
   "cell_type": "markdown",
   "metadata": {
    "id": "BDx5DiJ4-ro_"
   },
   "source": [
    "7. what is reinforcement learning ?\n",
    "    Reinforcement Learning enables an agent to learn in an interactive environment by trial and error using feedback from its own actions and experiences. "
   ]
  },
  {
   "cell_type": "markdown",
   "metadata": {
    "id": "hYk7xK_Z-9dN"
   },
   "source": [
    "8. Give use cases for classification, clustering and regression ?\n",
    "    Classification:\n",
    "        Predicting quality of materials\n",
    "    Clustering:\n",
    "        grouping images into different categories\n",
    "    Regression:\n",
    "        Predicting of housing price"
   ]
  },
  {
   "cell_type": "markdown",
   "metadata": {
    "id": "k0YwsEGa_baZ"
   },
   "source": [
    "9. What is dimension ? will more dimension be helpful to improve a machine learning model ? erfit\n",
    "    Dimension is a column(no.of attributes) or features for a dataset. More dimensions will not be helpful to improve ML model,because it will confuse the machine."
   ]
  },
  {
   "cell_type": "markdown",
   "metadata": {
    "id": "-od_1BPK_ktN"
   },
   "source": [
    "10. what is hypothetical space ? explain with an example\n",
    "    Hypothetical space is the set of all the possible legal hypothesis. This is the set from which the machine learning algorithm would determine the possible which would best describe the output"
   ]
  }
 ],
 "metadata": {
  "colab": {
   "authorship_tag": "ABX9TyMGDD+hZbNw9MLuhXZs2kw8",
   "collapsed_sections": [],
   "name": "Session_01_workbook.ipynb",
   "provenance": []
  },
  "kernelspec": {
   "display_name": "Python 3",
   "language": "python",
   "name": "python3"
  },
  "language_info": {
   "codemirror_mode": {
    "name": "ipython",
    "version": 3
   },
   "file_extension": ".py",
   "mimetype": "text/x-python",
   "name": "python",
   "nbconvert_exporter": "python",
   "pygments_lexer": "ipython3",
   "version": "3.8.8"
  },
  "toc": {
   "base_numbering": 1,
   "nav_menu": {},
   "number_sections": true,
   "sideBar": true,
   "skip_h1_title": false,
   "title_cell": "Table of Contents",
   "title_sidebar": "Contents",
   "toc_cell": false,
   "toc_position": {},
   "toc_section_display": true,
   "toc_window_display": false
  }
 },
 "nbformat": 4,
 "nbformat_minor": 1
}
