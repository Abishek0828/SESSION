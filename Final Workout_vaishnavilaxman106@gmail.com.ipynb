{
  "nbformat": 4,
  "nbformat_minor": 0,
  "metadata": {
    "colab": {
      "name": "Untitled0.ipynb",
      "provenance": []
    },
    "kernelspec": {
      "name": "python3",
      "display_name": "Python 3"
    },
    "language_info": {
      "name": "python"
    }
  },
  "cells": [
    {
      "cell_type": "code",
      "metadata": {
        "id": "vlCYWgc7eKv6"
      },
      "source": [
        ""
      ],
      "execution_count": null,
      "outputs": []
    },
    {
      "cell_type": "markdown",
      "metadata": {
        "id": "caBiokGQeL6G"
      },
      "source": [
        "  “Machine Learning is defined as the study of computer programs that leverage algorithms and statistical models to learn through inference and patterns without being explicitly programed. Machine Learning field has undergone significant developments in the last decade.”\n",
        "   \n",
        "  Supervised learning is one of the most basic types of machine learning. In this type, the machine learning algorithm is trained on labeled data. Even though the data needs to be labeled accurately for this method to work, supervised learning is extremely powerful when used in the right circumstances.\n",
        "In supervised learning, the ML algorithm is given a small training dataset to work with. This training dataset is a smaller part of the bigger dataset and serves to give the algorithm a basic idea of the problem, solution, and data points to be dealt with. The training dataset is also very similar to the final dataset in its characteristics and provides the algorithm with the labeled parameters required for the problem.\n",
        "\n",
        "Unsupervised machine learning holds the advantage of being able to work with unlabeled data. This means that human labor is not required to make the dataset machine-readable, allowing much larger datasets to be worked on by the program.\n",
        "In supervised learning, the labels allow the algorithm to find the exact nature of the relationship between any two data points. However, unsupervised learning does not have labels to work off of, resulting in the creation of hidden structures. Relationships between data points are perceived by the algorithm in an abstract manner, with no input required from human beings.The creation of these hidden structures is what makes unsupervised learning algorithms versatile. Instead of a defined and set problem statement, unsupervised learning algorithms can adapt to the data by dynamically changing hidden structures. This offers more post-deployment development than supervised learning algorithms.\n",
        "\n",
        " Reinforcement learning directly takes inspiration from how human beings learn from data in their lives. It features an algorithm that improves upon itself and learns from new situations using a trial-and-error method. Favorable outputs are encouraged or ‘reinforced’, and non-favorable outputs are discouraged or ‘punished’.\n",
        "Based on the psychological concept of conditioning, reinforcement learning works by putting the algorithm in a work environment with an interpreter and a reward system. In every iteration of the algorithm, the output result is given to the interpreter, which decides whether the outcome is favorable or not.\n",
        "\n",
        "Neural networks A neural network is a series of algorithms that endeavors to recognize underlying relationships in a set of data through a process that mimics the way the human brain operates. In this sense, neural networks refer to systems of neurons, either organic or artificial in nature."
      ]
    },
    {
      "cell_type": "code",
      "metadata": {
        "colab": {
          "base_uri": "https://localhost:8080/",
          "height": 359
        },
        "id": "MPCu5nfsgT6v",
        "outputId": "4cbff545-ce6d-4633-ccd0-ed586ac66721"
      },
      "source": [
        "import pandas as pd\n",
        "import numpy as np\n",
        "\n",
        "df = pd.DataFrame([[181,80,44],[177,90,43],[198,70,54],[182,79,43],[199,69,32],[175,75,43],[200,88,50],[188,52,10],[195,99,52],[185,59,32]], \n",
        "                  columns=[['Height', 'Weight', 'Shoe_size']])\n",
        "df['Gender'] = np.array(('male','female','female','male','female','male','male','female','male','female'))\n",
        "df"
      ],
      "execution_count": 1,
      "outputs": [
        {
          "output_type": "execute_result",
          "data": {
            "text/html": [
              "<div>\n",
              "<style scoped>\n",
              "    .dataframe tbody tr th:only-of-type {\n",
              "        vertical-align: middle;\n",
              "    }\n",
              "\n",
              "    .dataframe tbody tr th {\n",
              "        vertical-align: top;\n",
              "    }\n",
              "\n",
              "    .dataframe thead tr th {\n",
              "        text-align: left;\n",
              "    }\n",
              "</style>\n",
              "<table border=\"1\" class=\"dataframe\">\n",
              "  <thead>\n",
              "    <tr>\n",
              "      <th></th>\n",
              "      <th>Height</th>\n",
              "      <th>Weight</th>\n",
              "      <th>Shoe_size</th>\n",
              "      <th>Gender</th>\n",
              "    </tr>\n",
              "  </thead>\n",
              "  <tbody>\n",
              "    <tr>\n",
              "      <th>0</th>\n",
              "      <td>181</td>\n",
              "      <td>80</td>\n",
              "      <td>44</td>\n",
              "      <td>male</td>\n",
              "    </tr>\n",
              "    <tr>\n",
              "      <th>1</th>\n",
              "      <td>177</td>\n",
              "      <td>90</td>\n",
              "      <td>43</td>\n",
              "      <td>female</td>\n",
              "    </tr>\n",
              "    <tr>\n",
              "      <th>2</th>\n",
              "      <td>198</td>\n",
              "      <td>70</td>\n",
              "      <td>54</td>\n",
              "      <td>female</td>\n",
              "    </tr>\n",
              "    <tr>\n",
              "      <th>3</th>\n",
              "      <td>182</td>\n",
              "      <td>79</td>\n",
              "      <td>43</td>\n",
              "      <td>male</td>\n",
              "    </tr>\n",
              "    <tr>\n",
              "      <th>4</th>\n",
              "      <td>199</td>\n",
              "      <td>69</td>\n",
              "      <td>32</td>\n",
              "      <td>female</td>\n",
              "    </tr>\n",
              "    <tr>\n",
              "      <th>5</th>\n",
              "      <td>175</td>\n",
              "      <td>75</td>\n",
              "      <td>43</td>\n",
              "      <td>male</td>\n",
              "    </tr>\n",
              "    <tr>\n",
              "      <th>6</th>\n",
              "      <td>200</td>\n",
              "      <td>88</td>\n",
              "      <td>50</td>\n",
              "      <td>male</td>\n",
              "    </tr>\n",
              "    <tr>\n",
              "      <th>7</th>\n",
              "      <td>188</td>\n",
              "      <td>52</td>\n",
              "      <td>10</td>\n",
              "      <td>female</td>\n",
              "    </tr>\n",
              "    <tr>\n",
              "      <th>8</th>\n",
              "      <td>195</td>\n",
              "      <td>99</td>\n",
              "      <td>52</td>\n",
              "      <td>male</td>\n",
              "    </tr>\n",
              "    <tr>\n",
              "      <th>9</th>\n",
              "      <td>185</td>\n",
              "      <td>59</td>\n",
              "      <td>32</td>\n",
              "      <td>female</td>\n",
              "    </tr>\n",
              "  </tbody>\n",
              "</table>\n",
              "</div>"
            ],
            "text/plain": [
              "  Height Weight Shoe_size  Gender\n",
              "0    181     80        44    male\n",
              "1    177     90        43  female\n",
              "2    198     70        54  female\n",
              "3    182     79        43    male\n",
              "4    199     69        32  female\n",
              "5    175     75        43    male\n",
              "6    200     88        50    male\n",
              "7    188     52        10  female\n",
              "8    195     99        52    male\n",
              "9    185     59        32  female"
            ]
          },
          "metadata": {
            "tags": []
          },
          "execution_count": 1
        }
      ]
    },
    {
      "cell_type": "code",
      "metadata": {
        "colab": {
          "base_uri": "https://localhost:8080/",
          "height": 319
        },
        "id": "EneCzOSxiKwc",
        "outputId": "132d69d7-b661-4a14-ea00-0cf914d447fb"
      },
      "source": [
        "import matplotlib.pyplot as plt\n",
        "import seaborn as sns\n",
        "from sklearn.datasets.samples_generator import make_blobs\n",
        "X, y_true = make_blobs(n_samples=300, centers=4,\n",
        "                       cluster_std=0.60, random_state=0)\n",
        "plt.scatter(X[:, 0], X[:, 1], s=50);"
      ],
      "execution_count": 2,
      "outputs": [
        {
          "output_type": "stream",
          "text": [
            "/usr/local/lib/python3.7/dist-packages/sklearn/utils/deprecation.py:144: FutureWarning: The sklearn.datasets.samples_generator module is  deprecated in version 0.22 and will be removed in version 0.24. The corresponding classes / functions should instead be imported from sklearn.datasets. Anything that cannot be imported from sklearn.datasets is now part of the private API.\n",
            "  warnings.warn(message, FutureWarning)\n"
          ],
          "name": "stderr"
        },
        {
          "output_type": "display_data",
          "data": {
            "image/png": "[encoded data removed]",
            "text/plain": [
              "<Figure size 432x288 with 1 Axes>"
            ]
          },
          "metadata": {
            "tags": [],
            "needs_background": "light"
          }
        }
      ]
    },
    {
      "cell_type": "code",
      "metadata": {
        "colab": {
          "base_uri": "https://localhost:8080/",
          "height": 368
        },
        "id": "ynzwUTvjpADS",
        "outputId": "f9bdfb94-7521-4c2e-f9e9-a81e1f754955"
      },
      "source": [
        "import numpy as np # helps with the math\n",
        "import matplotlib.pyplot as plt # to plot error during training\n",
        "\n",
        "# input data\n",
        "inputs = np.array([[0, 1, 0],\n",
        "                   [0, 1, 1],\n",
        "                   [0, 0, 0],\n",
        "                   [1, 0, 0],\n",
        "                   [1, 1, 1],\n",
        "                   [1, 0, 1]])\n",
        "# output data\n",
        "outputs = np.array([[0], [0], [0], [1], [1], [1]])\n",
        "\n",
        "# create NeuralNetwork class\n",
        "class NeuralNetwork:\n",
        "\n",
        "    # intialize variables in class\n",
        "    def __init__(self, inputs, outputs):\n",
        "        self.inputs  = inputs\n",
        "        self.outputs = outputs\n",
        "        # initialize weights as .50 for simplicity\n",
        "        self.weights = np.array([[.50], [.50], [.50]])\n",
        "        self.error_history = []\n",
        "        self.epoch_list = []\n",
        "\n",
        "    #activation function ==> S(x) = 1/1+e^(-x)\n",
        "    def sigmoid(self, x, deriv=False):\n",
        "        if deriv == True:\n",
        "            return x * (1 - x)\n",
        "        return 1 / (1 + np.exp(-x))\n",
        "\n",
        "    # data will flow through the neural network.\n",
        "    def feed_forward(self):\n",
        "        self.hidden = self.sigmoid(np.dot(self.inputs, self.weights))\n",
        "\n",
        "    # going backwards through the network to update weights\n",
        "    def backpropagation(self):\n",
        "        self.error  = self.outputs - self.hidden\n",
        "        delta = self.error * self.sigmoid(self.hidden, deriv=True)\n",
        "        self.weights += np.dot(self.inputs.T, delta)\n",
        "\n",
        "    # train the neural net for 25,000 iterations\n",
        "    def train(self, epochs=25000):\n",
        "        for epoch in range(epochs):\n",
        "            # flow forward and produce an output\n",
        "            self.feed_forward()\n",
        "            # go back though the network to make corrections based on the output\n",
        "            self.backpropagation()    \n",
        "            # keep track of the error history over each epoch\n",
        "            self.error_history.append(np.average(np.abs(self.error)))\n",
        "            self.epoch_list.append(epoch)\n",
        "\n",
        "    # function to predict output on new and unseen input data                               \n",
        "    def predict(self, new_input):\n",
        "        prediction = self.sigmoid(np.dot(new_input, self.weights))\n",
        "        return prediction\n",
        "\n",
        "# create neural network   \n",
        "NN = NeuralNetwork(inputs, outputs)\n",
        "# train neural network\n",
        "NN.train()\n",
        "\n",
        "# create two new examples to predict                                   \n",
        "example = np.array([[1, 1, 0]])\n",
        "example_2 = np.array([[0, 1, 1]])\n",
        "\n",
        "# print the predictions for both examples                                   \n",
        "print(NN.predict(example), ' - Correct: ', example[0][0])\n",
        "print(NN.predict(example_2), ' - Correct: ', example_2[0][0])\n",
        "\n",
        "# plot the error over the entire training duration\n",
        "plt.figure(figsize=(15,5))\n",
        "plt.plot(NN.epoch_list, NN.error_history)\n",
        "plt.xlabel('Epoch')\n",
        "plt.ylabel('Error')\n",
        "plt.show()"
      ],
      "execution_count": 13,
      "outputs": [
        {
          "output_type": "stream",
          "text": [
            "[[0.99089925]]  - Correct:  1\n",
            "[[0.006409]]  - Correct:  0\n"
          ],
          "name": "stdout"
        },
        {
          "output_type": "display_data",
          "data": {
            "image/png": "[encoded data removed]",
            "text/plain": [
              "<Figure size 1080x360 with 1 Axes>"
            ]
          },
          "metadata": {
            "tags": [],
            "needs_background": "light"
          }
        }
      ]
    }
  ]
}