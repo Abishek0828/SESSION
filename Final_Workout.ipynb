{
  "nbformat": 4,
  "nbformat_minor": 0,
  "metadata": {
    "colab": {
      "name": "Final_Workout.ipynb",
      "provenance": [],
      "collapsed_sections": [],
      "include_colab_link": true
    },
    "kernelspec": {
      "name": "python3",
      "display_name": "Python 3"
    },
    "language_info": {
      "name": "python"
    }
  },
  "cells": [
    {
      "cell_type": "markdown",
      "metadata": {
        "id": "view-in-github",
        "colab_type": "text"
      },
      "source": [
        "<a href=\"https://colab.research.google.com/github/resh2001/SESSION/blob/DEV/Final_Workout.ipynb\" target=\"_parent\"><img src=\"https://colab.research.google.com/assets/colab-badge.svg\" alt=\"Open In Colab\"/></a>"
      ]
    },
    {
      "cell_type": "markdown",
      "metadata": {
        "id": "GKoyUvoJy41o"
      },
      "source": [
        "I am RESHMA R \n",
        "\n",
        "From III CSE\n",
        "\n",
        "Loyola Institute of Technology"
      ]
    },
    {
      "cell_type": "markdown",
      "metadata": {
        "id": "TFMnjoRizDyM"
      },
      "source": [
        "1. Write up summary of what I know about ML"
      ]
    },
    {
      "cell_type": "markdown",
      "metadata": {
        "id": "8NPAkq5KzlVn"
      },
      "source": [
        "Machine Learning is the application of artificial Intelligence.\n",
        "Machine Learning is "
      ]
    }
  ]
}