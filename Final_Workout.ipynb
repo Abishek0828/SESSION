{
  "nbformat": 4,
  "nbformat_minor": 0,
  "metadata": {
    "colab": {
      "name": "Copy of Final_Workout.ipynb",
      "provenance": [],
      "collapsed_sections": [],
      "include_colab_link": true
    },
    "kernelspec": {
      "name": "python3",
      "display_name": "Python 3"
    },
    "language_info": {
      "name": "python"
    }
  },
  "cells": [
    {
      "cell_type": "markdown",
      "metadata": {
        "id": "view-in-github",
        "colab_type": "text"
      },
      "source": [
        "<a href=\"https://colab.research.google.com/github/resh2001/SESSION/blob/DEV/Final_Workout.ipynb\" target=\"_parent\"><img src=\"https://colab.research.google.com/assets/colab-badge.svg\" alt=\"Open In Colab\"/></a>"
      ]
    },
    {
      "cell_type": "markdown",
      "metadata": {
        "id": "GKoyUvoJy41o"
      },
      "source": [
        "I am RESHMA R \n",
        "\n",
        "From III CSE\n",
        "\n",
        "Loyola Institute of Technology"
      ]
    },
    {
      "cell_type": "markdown",
      "metadata": {
        "id": "TFMnjoRizDyM"
      },
      "source": [
        "## **1. Write up summary of what I know about ML**"
      ]
    },
    {
      "cell_type": "markdown",
      "metadata": {
        "id": "8NPAkq5KzlVn"
      },
      "source": [
        "Machine Learning is the application of artificial Intelligence.\n",
        "Machine Learning is the process which mainly focus on the development of computer program to access data and to learn by itself.\n",
        "Machine Learning has 3 main Learning Techniques,\n",
        "they are as follows\n",
        "1. Supervised Learning\n",
        "2. Unsupervised Learning\n",
        "3. Reinforcement Learning\n",
        "\n",
        "* Supervised Learning, they are trained using labelled data.It requires both input and output data.\n",
        "\n",
        "* Unsupervised Learning, they are it trains itself from the previous labels.It requires only input data.\n",
        "\n",
        "* Reinforcement Learning, They produce output based on value based rewards using some iterative approach.\n",
        "\n",
        "Linear Regression:\n",
        "It is a continuous constant slope used to predict values that are in a continous range.\n",
        "\n",
        "some ML algorithms are SVM algorithm, Regression Algorithm and Artificial Neural Network.\n",
        "\n"
      ]
    },
    {
      "cell_type": "markdown",
      "metadata": {
        "id": "o18S_BsA3jjS"
      },
      "source": [
        "# **2. Implementing Simple algorithm for supervised and unsupervised learning** "
      ]
    },
    {
      "cell_type": "markdown",
      "metadata": {
        "id": "g5zVrmfe4DkB"
      },
      "source": [
        "**Supervised Learning Algorithm:**\n",
        "\n",
        "Linear Regression is a simple supervised Learning.\n",
        "\n",
        "\n",
        "**Linear Regression:**\n",
        "\n",
        "Now we are going to implement a simple Linear regression algorithm.\n",
        "Let us consider the data the house rent(dependent variable) and year of staying in house(independent variable).\n",
        "now we are going to show the relationship between these 2 datas and also the bestfit line for the data set.\n"
      ]
    },
    {
      "cell_type": "code",
      "metadata": {
        "id": "o3ElQyES8Olu"
      },
      "source": [
        "import numpy as nm\n",
        "import matplotlib.pyplot as mtp\n",
        "import pandas as pd"
      ],
      "execution_count": 17,
      "outputs": []
    },
    {
      "cell_type": "code",
      "metadata": {
        "colab": {
          "base_uri": "https://localhost:8080/"
        },
        "id": "DS7bXdA4A2Vj",
        "outputId": "8bf24985-a668-46b3-a761-b127cbf4d902"
      },
      "source": [
        "url='https://github.com/resh2001/SESSION/raw/DEV/House_Rent_Data.csv'\n",
        "data_set= pd.read_csv(url)\n",
        "print(data_set)"
      ],
      "execution_count": 32,
      "outputs": [
        {
          "output_type": "stream",
          "text": [
            "    house rent  year of stay\n",
            "0         2000           1.0\n",
            "1         3000           2.0\n",
            "2         4000           3.0\n",
            "3         5000           4.0\n",
            "4         5500           4.0\n",
            "5         3500           3.0\n",
            "6         5000           5.0\n",
            "7         6000           6.0\n",
            "8         2200           1.0\n",
            "9         2500           1.5\n",
            "10        3600           3.5\n",
            "11        4000           4.5\n",
            "12        5000           4.5\n"
          ],
          "name": "stdout"
        }
      ]
    },
    {
      "cell_type": "code",
      "metadata": {
        "colab": {
          "base_uri": "https://localhost:8080/"
        },
        "id": "FcZbG-e_CbVh",
        "outputId": "7ed5bce8-fad6-4407-d80b-84a9c483326c"
      },
      "source": [
        "x=data_set.iloc[:,:-1].values\n",
        "y=data_set.iloc[:,1].values\n",
        "print(x)\n",
        "print(y)"
      ],
      "execution_count": 34,
      "outputs": [
        {
          "output_type": "stream",
          "text": [
            "[[2000]\n",
            " [3000]\n",
            " [4000]\n",
            " [5000]\n",
            " [5500]\n",
            " [3500]\n",
            " [5000]\n",
            " [6000]\n",
            " [2200]\n",
            " [2500]\n",
            " [3600]\n",
            " [4000]\n",
            " [5000]]\n",
            "[1.  2.  3.  4.  4.  3.  5.  6.  1.  1.5 3.5 4.5 4.5]\n"
          ],
          "name": "stdout"
        }
      ]
    },
    {
      "cell_type": "code",
      "metadata": {
        "id": "pY9msFXGDhBJ"
      },
      "source": [
        "from sklearn.model_selection import train_test_split\n",
        "x_train,x_test,y_train,y_test=train_test_split(x,y,test_size=1/3,random_state=0)"
      ],
      "execution_count": 35,
      "outputs": []
    },
    {
      "cell_type": "code",
      "metadata": {
        "colab": {
          "base_uri": "https://localhost:8080/"
        },
        "id": "SStxYWO_EXu5",
        "outputId": "095608fd-1bb4-425e-800c-01a00178b0ec"
      },
      "source": [
        "from sklearn.linear_model import LinearRegression\n",
        "regressor= LinearRegression()\n",
        "regressor.fit(x_train,y_train) "
      ],
      "execution_count": 36,
      "outputs": [
        {
          "output_type": "execute_result",
          "data": {
            "text/plain": [
              "LinearRegression(copy_X=True, fit_intercept=True, n_jobs=None, normalize=False)"
            ]
          },
          "metadata": {
            "tags": []
          },
          "execution_count": 36
        }
      ]
    },
    {
      "cell_type": "code",
      "metadata": {
        "id": "31vTRevsEt6K"
      },
      "source": [
        "y_pred= regressor.predict(x_test)\n",
        "x_pred= regressor.predict(x_train)"
      ],
      "execution_count": 37,
      "outputs": []
    },
    {
      "cell_type": "code",
      "metadata": {
        "colab": {
          "base_uri": "https://localhost:8080/",
          "height": 295
        },
        "id": "LStSaRknFIr1",
        "outputId": "7c123ca0-a810-41ae-f93e-3f47837b8d82"
      },
      "source": [
        "mtp.scatter(x_train,y_train,color=\"green\")\n",
        "mtp.plot(x_train,x_pred,color=\"red\")\n",
        "mtp.title(\"House rent Vs Year of stay(Training Dataset)\")\n",
        "mtp.xlabel(\"year of stay\")\n",
        "mtp.ylabel(\"House resnt(In rupees)\")\n",
        "mtp.show()"
      ],
      "execution_count": 38,
      "outputs": [
        {
          "output_type": "display_data",
          "data": {
            "image/png": "[encoded data removed]",
            "text/plain": [
              "<Figure size 432x288 with 1 Axes>"
            ]
          },
          "metadata": {
            "tags": [],
            "needs_background": "light"
          }
        }
      ]
    },
    {
      "cell_type": "markdown",
      "metadata": {
        "id": "o2QmCJyYKEcS"
      },
      "source": [
        "**Unsupervised Learning Algorithm:**\n",
        "\n",
        "K-means cluster is one of the unsupervised algorithm.\n",
        "\n",
        "**K- Means Cluster Algorithm:**\n",
        "\n",
        "Now let us consider a data set with person number, their salary, house rent, year of staying at the house, shopping amount spent per month.\n",
        "\n",
        "Here the independent variables are amount spent per month\n",
        "for shopping and house rent.\n",
        "\n",
        "With this we are going to form clusters.\n",
        "\n",
        "As it is unsupervised, we doesn't no what actually the cluster forms.\n",
        "\n",
        "Now lets implement the following."
      ]
    },
    {
      "cell_type": "code",
      "metadata": {
        "id": "hPjU1xfdRBYq"
      },
      "source": [
        "import numpy as nm\n",
        "import matplotlib.pyplot as mtp\n",
        "import pandas as pd"
      ],
      "execution_count": 76,
      "outputs": []
    },
    {
      "cell_type": "code",
      "metadata": {
        "colab": {
          "base_uri": "https://localhost:8080/"
        },
        "id": "-EC-7_RQRI_p",
        "outputId": "40391508-9eac-41bb-d146-604faea2722e"
      },
      "source": [
        "url='https://github.com/resh2001/SESSION/raw/DEV/necessary_expence.csv'\n",
        "data_set= pd.read_csv(url)\n",
        "print(data_set)"
      ],
      "execution_count": 77,
      "outputs": [
        {
          "output_type": "stream",
          "text": [
            "    person  salary   year of stay  house rent  monthly shopping\n",
            "0        1    15000           1.0        2000              3100\n",
            "1        2    16000           2.0        3000              2450\n",
            "2        3    20000           3.0        4000              3000\n",
            "3        4    40000           4.0        5000              5000\n",
            "4        5    80000           4.0        5500              4000\n",
            "5        6    25000           3.0        3500              2100\n",
            "6        7    35000           5.0        5000              6000\n",
            "7        8    55000           6.0        6000              2300\n",
            "8        9    60000           1.0        2200              2050\n",
            "9       10    30000           1.5        2500              2500\n",
            "10      11    28000           3.5        3600              5500\n",
            "11      12    18000           4.5        4000              4500\n",
            "12      13    19000           4.5        5000              2600\n"
          ],
          "name": "stdout"
        }
      ]
    },
    {
      "cell_type": "code",
      "metadata": {
        "colab": {
          "base_uri": "https://localhost:8080/"
        },
        "id": "YfA41oKzRhBy",
        "outputId": "bd8ef464-485d-4333-fee2-dfb86832ee6a"
      },
      "source": [
        "x=data_set.iloc[:,[3,4]].values\n",
        "print(x)"
      ],
      "execution_count": 78,
      "outputs": [
        {
          "output_type": "stream",
          "text": [
            "[[2000 3100]\n",
            " [3000 2450]\n",
            " [4000 3000]\n",
            " [5000 5000]\n",
            " [5500 4000]\n",
            " [3500 2100]\n",
            " [5000 6000]\n",
            " [6000 2300]\n",
            " [2200 2050]\n",
            " [2500 2500]\n",
            " [3600 5500]\n",
            " [4000 4500]\n",
            " [5000 2600]]\n"
          ],
          "name": "stdout"
        }
      ]
    },
    {
      "cell_type": "code",
      "metadata": {
        "colab": {
          "base_uri": "https://localhost:8080/",
          "height": 295
        },
        "id": "gD2-1C0WSGUi",
        "outputId": "00361f0b-676e-4bf8-eef3-356ea1ced11d"
      },
      "source": [
        "from sklearn.cluster import KMeans\n",
        "wcss_list=[]\n",
        "for i in range(1, 11):  \n",
        "    kmeans = KMeans(n_clusters=i, init='k-means++', random_state= 42)  \n",
        "    kmeans.fit(x)  \n",
        "    wcss_list.append(kmeans.inertia_)  \n",
        "mtp.plot(range(1, 11), wcss_list)  \n",
        "mtp.title('The Elobw Method Graph')  \n",
        "mtp.xlabel('Number of clusters(k)')  \n",
        "mtp.ylabel('wcss_list')  \n",
        "mtp.show()"
      ],
      "execution_count": 45,
      "outputs": [
        {
          "output_type": "display_data",
          "data": {
            "image/png": "[encoded data removed]",
            "text/plain": [
              "<Figure size 432x288 with 1 Axes>"
            ]
          },
          "metadata": {
            "tags": [],
            "needs_background": "light"
          }
        }
      ]
    },
    {
      "cell_type": "code",
      "metadata": {
        "colab": {
          "base_uri": "https://localhost:8080/"
        },
        "id": "26EeA2E9Sppo",
        "outputId": "5f604b06-4d53-46b0-883d-ce5ebde7064a"
      },
      "source": [
        "kmeans=KMeans(n_clusters=3, init='k-means++', random_state= 42)  \n",
        "y_predict= kmeans.fit_predict(x)\n",
        "print(y_predict)"
      ],
      "execution_count": 48,
      "outputs": [
        {
          "output_type": "stream",
          "text": [
            "[2 2 1 0 1 2 0 1 2 2 0 0 1]\n"
          ],
          "name": "stdout"
        }
      ]
    },
    {
      "cell_type": "code",
      "metadata": {
        "colab": {
          "base_uri": "https://localhost:8080/",
          "height": 295
        },
        "id": "fNJhBfSkTJvE",
        "outputId": "0478679b-f2e8-400b-e81e-aeb56c200835"
      },
      "source": [
        "mtp.scatter(x[y_predict == 0, 0], x[y_predict == 0, 1], s = 100, c = 'blue', label = 'Cluster 1')\n",
        "mtp.scatter(x[y_predict == 1, 0], x[y_predict == 1, 1], s = 100, c = 'green', label = 'Cluster 2')\n",
        "mtp.scatter(x[y_predict== 2, 0], x[y_predict == 2, 1], s = 100, c = 'red', label = 'Cluster 3') \n",
        "mtp.scatter(kmeans.cluster_centers_[:, 0], kmeans.cluster_centers_[:, 1], s = 300, c = 'yellow', label = 'Centroid')   \n",
        "mtp.title('Clusters of an apartment')  \n",
        "mtp.xlabel('Houserent')  \n",
        "mtp.ylabel('shopping amount')  \n",
        "mtp.legend()  \n",
        "mtp.show()  "
      ],
      "execution_count": 47,
      "outputs": [
        {
          "output_type": "display_data",
          "data": {
            "image/png": "[encoded data removed]",
            "text/plain": [
              "<Figure size 432x288 with 1 Axes>"
            ]
          },
          "metadata": {
            "tags": [],
            "needs_background": "light"
          }
        }
      ]
    },
    {
      "cell_type": "markdown",
      "metadata": {
        "id": "IEymsLpXUIib"
      },
      "source": [
        "From this we can say that,\n",
        "\n",
        "cluster 1 defines the person who spend more amount in both shopping and house rent\n",
        "\n",
        "cluster 2 defines the person who spend average in both the shopping and house rent\n",
        "\n",
        "cluster 3 defines the person with leass house rent and also spends little in their shopping.\n",
        "\n",
        "Thus this explains the K-Means algorithm."
      ]
    },
    {
      "cell_type": "markdown",
      "metadata": {
        "id": "c5UO3K7SU6tz"
      },
      "source": [
        "# **3. Implement a simple neural network**\n",
        "\n"
      ]
    },
    {
      "cell_type": "markdown",
      "metadata": {
        "id": "VRsHRNZXnRpw"
      },
      "source": [
        "**Artificial Neural Network:**\n",
        "\n",
        "Let us consider the following inputs and outputs.\n",
        "\n",
        "\n"
      ]
    },
    {
      "cell_type": "markdown",
      "metadata": {
        "id": "3QMHNq0MyCVx"
      },
      "source": [
        "| X1  | X2  | X3 |Y = output |\n",
        "| --- | --- |    |------     | \n",
        "| 0   | 1   |  1 |     1     |\n",
        "| 1   | 0   |  0 |     0     | \n",
        "| 1   | 0   |  1 |     1     |    "
      ]
    },
    {
      "cell_type": "markdown",
      "metadata": {
        "id": "OJCYAySApRtf"
      },
      "source": [
        "Now let's predict the output for the following\n"
      ]
    },
    {
      "cell_type": "markdown",
      "metadata": {
        "id": "mwK6_DfHpk2B"
      },
      "source": [
        "| X1  | X2  | X3 |Y = output |\n",
        "| --- | --- |    |------     | \n",
        "| 1   | 0   |  1 |     ?     |    "
      ]
    },
    {
      "cell_type": "markdown",
      "metadata": {
        "id": "W9SB0Hbipq58"
      },
      "source": [
        "By using forward and backward propagation we are going to find the output.(the predicted output is 1)."
      ]
    },
    {
      "cell_type": "code",
      "metadata": {
        "colab": {
          "base_uri": "https://localhost:8080/"
        },
        "id": "oGqcxn4Km59Y",
        "outputId": "11798653-194a-41d4-b13e-e18b91b647ef"
      },
      "source": [
        "from joblib.numpy_pickle_utils import xrange\n",
        "from numpy import *\n",
        "  \n",
        "  \n",
        "class NeuralNet(object):\n",
        "    def __init__(self):\n",
        "        # Generate random numbers\n",
        "        random.seed(1)\n",
        "  \n",
        "        # Assign random weights to a 3 x 1 matrix,\n",
        "        self.synaptic_weights = 2 * random.random((3, 1)) - 1\n",
        "  \n",
        "    # The Sigmoid function\n",
        "    def __sigmoid(self, x):\n",
        "        return 1 / (1 + exp(-x))\n",
        "  \n",
        "    # The derivative of the Sigmoid function.\n",
        "    # This is the gradient of the Sigmoid curve.\n",
        "    def __sigmoid_derivative(self, x):\n",
        "        return x * (1 - x)\n",
        "  \n",
        "    # Train the neural network and adjust the weights each time.\n",
        "    def train(self, inputs, outputs, training_iterations):\n",
        "        for iteration in xrange(training_iterations):\n",
        "            # Pass the training set through the network.\n",
        "            output = self.learn(inputs)\n",
        "  \n",
        "            # Calculate the error\n",
        "            error = outputs - output\n",
        "  \n",
        "            # Adjust the weights by a factor\n",
        "            factor = dot(inputs.T, error * self.__sigmoid_derivative(output))\n",
        "            self.synaptic_weights += factor\n",
        "  \n",
        "        # The neural network thinks.\n",
        "  \n",
        "    def learn(self, inputs):\n",
        "        return self.__sigmoid(dot(inputs, self.synaptic_weights))\n",
        "  \n",
        "  \n",
        "if __name__ == \"__main__\":\n",
        "    # Initialize\n",
        "    neural_network = NeuralNet()\n",
        "  \n",
        "    # The training set.\n",
        "    inputs = array([[0, 1, 1], [1, 0, 0], [1, 0, 1]])\n",
        "    outputs = array([[1, 0, 1]]).T\n",
        "  \n",
        "    # Train the neural network\n",
        "    neural_network.train(inputs, outputs, 10000)\n",
        "  \n",
        "    # Test the neural network with a test example.\n",
        "    print(neural_network.learn(array([1, 0, 1])))"
      ],
      "execution_count": 104,
      "outputs": [
        {
          "output_type": "stream",
          "text": [
            "[0.9897704]\n"
          ],
          "name": "stdout"
        }
      ]
    },
    {
      "cell_type": "markdown",
      "metadata": {
        "id": "F2g-OgMtp8wx"
      },
      "source": [
        "Here the output is 0.98  which is nearly equal to one."
      ]
    }
  ]
}