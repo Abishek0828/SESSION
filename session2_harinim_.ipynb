{
  "nbformat": 4,
  "nbformat_minor": 0,
  "metadata": {
    "colab": {
      "name": "session2 vaishnavi .v.s..ipynb",
      "provenance": [],
      "collapsed_sections": []
    },
    "kernelspec": {
      "name": "python3",
      "display_name": "Python 3"
    },
    "language_info": {
      "name": "python"
    }
  },
  "cells": [
    {
      "cell_type": "markdown",
      "metadata": {
        "id": "cOre9jJFw1Gc"
      },
      "source": [
        "1) Workout\n",
        "y = w1x1 + w2x2 + b\n",
        "Initializing with\n",
        "\n",
        "w1=0,w2=0,b=0\n",
        "w1(new) = w1(old) + x1y\n",
        "\n",
        "w2(new) = w2(old) + x2y\n",
        "\n",
        "b(new) = b(old) + y\n",
        "\n",
        "1 = 0 x 1 + 0 x -1 + 0\n",
        "\n",
        "w1 = 0 + 1* 1 = 1\n",
        "\n",
        "w2 = 0 + -1* 1 = -1\n",
        "\n",
        "b = 0 + 1 = 1"
      ]
    },
    {
      "cell_type": "markdown",
      "metadata": {
        "id": "rRh9vLKSxvBb"
      },
      "source": [
        "| X1  | X2  | output | W1 | W2 | B |\n",
        "| --- | --- | ------ | -- | -- | - |\n",
        "| 1   | -1 | 1    |  1 | -1  | 1 |\n",
        "| -1   | 1  | 1    |   |   |  |\n",
        "| 1   | 1  | 1    |   |   |  |\n",
        "| -1  | -1  | -1    |   |  |   | "
      ]
    },
    {
      "cell_type": "markdown",
      "metadata": {
        "id": "5-iHBirhzB7b"
      },
      "source": [
        "w1(new) = w1(old) + x1y\n",
        "\n",
        "w2(new) = w2(old) + x2y\n",
        "\n",
        "b(new) = b(old) + y\n",
        "\n",
        "1 = 1 x -1 + -1 x 1 + 1\n",
        "\n",
        "w1 = 1 + -1* 1 = 0\n",
        "\n",
        "w2 = -1 + 1* 1 = 0\n",
        "\n",
        "b = 1 + 1 = 2"
      ]
    },
    {
      "cell_type": "markdown",
      "metadata": {
        "id": "jpEPwC1WzoaE"
      },
      "source": [
        "| X1  | X2  | output | W1 | W2 | B |\n",
        "| --- | --- | ------ | -- | -- | - |\n",
        "| 1   | -1 | 1    |  1 | -1  | 1 |\n",
        "| -1   | 1  | 1    | 0  | 0  | 2 |\n",
        "| 1   | 1  | 1    |   |   |  |\n",
        "| -1  | -1  | -1    |   |  |   | "
      ]
    },
    {
      "cell_type": "markdown",
      "metadata": {
        "id": "34UrCgZS0FZh"
      },
      "source": [
        "Row 3\n",
        "w1(new) = w1(old) + x1y\n",
        "\n",
        "w2(new) = w2(old) + x2y\n",
        "\n",
        "b(new) = b(old) + y\n",
        "\n",
        "1 = 0 x 1 + 0 x 1 + 2\n",
        "\n",
        "w1 = 0 + 1* 1 = 1\n",
        "\n",
        "w2 = 0 + 1* 1 = 1\n",
        "\n",
        "b = 1 + 2 = 3\n",
        "\n"
      ]
    },
    {
      "cell_type": "markdown",
      "metadata": {
        "id": "EgQLk20K0PX5"
      },
      "source": [
        "| X1  | X2  | output | W1 | W2 | B |\n",
        "| --- | --- | ------ | -- | -- | - |\n",
        "| 1   | -1 | 1    |  1 | -1  | 1 |\n",
        "| -1   | 1  | 1    | 0  | 0  | 2 |\n",
        "| 1   | 1  | 1    |  1 |  1 | 3 |\n",
        "| -1  | -1  | -1    |   |  |   | "
      ]
    },
    {
      "cell_type": "markdown",
      "metadata": {
        "id": "Vlfl4b-H0f3b"
      },
      "source": [
        "Row 4\n",
        "w1(new) = w1(old) + x1y\n",
        "\n",
        "w2(new) = w2(old) + x2y\n",
        "\n",
        "b(new) = b(old) + y\n",
        "\n",
        "-1 = 1 x -1 + 1 x -1 + 3\n",
        "\n",
        "w1 = 1 + -1* -1 = 2\n",
        "\n",
        "w2 = 1 + -1* -1 = 2\n",
        "\n",
        "b = 3 - 1 = 2\n",
        "\n"
      ]
    },
    {
      "cell_type": "markdown",
      "metadata": {
        "id": "Tu-bEv_f0tpz"
      },
      "source": [
        "| X1  | X2  | output | W1 | W2 | B |\n",
        "| --- | --- | ------ | -- | -- | - |\n",
        "| 1   | -1 | 1    |  1 | -1  | 1 |\n",
        "| -1   | 1  | 1    | 0  | 0  | 2 |\n",
        "| 1   | 1  | 1    |  1 |  1 | 3 |\n",
        "| -1  | -1  | -1    | 2  | 2 | 2  | "
      ]
    },
    {
      "cell_type": "markdown",
      "metadata": {
        "id": "-1VGdwl51jk8"
      },
      "source": [
        "Testing for all conditions\n",
        "With weight 2, 2 and bias 2\n",
        "\n",
        "y = w1x1 + w2x2 + b\n",
        "\n",
        "1 = 21 + 2-1 + 2 = 2 > 0 = 1\n",
        "\n",
        "1 = 2-1 + 21 + 2 = 2 > 0 = 1\n",
        "\n",
        "1 = 21 + 2 1 + 2 = 6 > 0 = 1\n",
        "\n",
        "-1 = 2-1 + 2-1 + 2 = -2 < 0 = -1\n",
        "\n",
        "So, We got the output (Y)."
      ]
    },
    {
      "cell_type": "markdown",
      "metadata": {
        "id": "g62YCWuR1tnO"
      },
      "source": [
        "2) Workout Changing (ROWS)\n",
        "y = w1x1 + w2x2 + b\n",
        "Initializing with\n",
        "\n",
        "w1=1,w2=1,b=1\n",
        "w1(new) = w1(old) + x1y\n",
        "\n",
        "w2(new) = w2(old) + x2y\n",
        "\n",
        "b(new) = b(old) + y\n",
        "\n",
        "-1 = 1 x -1 + 1 x -1 + 1\n",
        "\n",
        "w1 = 1 + -1* -1 = 2\n",
        "\n",
        "w2 = 1 + -1* -1 = 2\n",
        "\n",
        "b = 1 - 1 = 0"
      ]
    },
    {
      "cell_type": "markdown",
      "metadata": {
        "id": "aUmsIimx2CwT"
      },
      "source": [
        "| X1  | X2  | output | W1 | W2 | B |\n",
        "| --- | --- | ------ | -- | -- | - |\n",
        "| -1   | -1 | -1    |  2 | 2  | 0 |\n",
        "| 1   | 1  | 1    |  |  |  |\n",
        "| -1   | 1  | 1    |   |   |  |\n",
        "| 1  | -1  | 1    |   |  |   | "
      ]
    },
    {
      "cell_type": "markdown",
      "metadata": {
        "id": "bOnJMwf-2kpK"
      },
      "source": [
        "Row 2\n",
        "w1(new) = w1(old) + x1y\n",
        "\n",
        "w2(new) = w2(old) + x2y\n",
        "\n",
        "b(new) = b(old) + y\n",
        "\n",
        "1 = 2 x 1 + 2 x 1 + 0\n",
        "\n",
        "w1 = 2 + 1* 1 = 3\n",
        "\n",
        "w2 = 2 + 1* 1 = 3\n",
        "\n",
        "b = 0 + 1 = 1"
      ]
    },
    {
      "cell_type": "markdown",
      "metadata": {
        "id": "UtUkaGBC2t6b"
      },
      "source": [
        "| X1  | X2  | output | W1 | W2 | B |\n",
        "| --- | --- | ------ | -- | -- | - |\n",
        "| -1   | -1 | -1    |  2 | 2  | 0 |\n",
        "| 1   | 1  | 1    | 3 | 3 | 1 |\n",
        "| -1   | 1  | 1    |   |   |  |\n",
        "| 1  | -1  | 1    |   |  |   | "
      ]
    },
    {
      "cell_type": "markdown",
      "metadata": {
        "id": "Z6Efc3O01wW_"
      },
      "source": [
        ""
      ]
    },
    {
      "cell_type": "markdown",
      "metadata": {
        "id": "XNRr0ADD3KSW"
      },
      "source": [
        "Row 3\n",
        "w1(new) = w1(old) + x1y\n",
        "\n",
        "w2(new) = w2(old) + x2y\n",
        "\n",
        "b(new) = b(old) + y\n",
        "\n",
        "1 = 3 x -1 + 3 x 1 + 1\n",
        "\n",
        "w1 = 3 + -1* 1 = 2\n",
        "\n",
        "w2 = 3 + 1* 1 = 4\n",
        "\n",
        "b = 1 + 1 = 2\n",
        "\n"
      ]
    },
    {
      "cell_type": "markdown",
      "metadata": {
        "id": "6At8mNgp3Sjc"
      },
      "source": [
        "| X1  | X2  | output | W1 | W2 | B |\n",
        "| --- | --- | ------ | -- | -- | - |\n",
        "| -1   | -1 | -1    |  2 | 2  | 0 |\n",
        "| 1   | 1  | 1    | 3 | 3 | 1 |\n",
        "| -1   | 1  | 1    | 2  |  4 | 2 |\n",
        "| 1  | -1  | 1    |   |  |   | "
      ]
    },
    {
      "cell_type": "markdown",
      "metadata": {
        "id": "lTLzMUzS3jYD"
      },
      "source": [
        "Row 4\n",
        "w1(new) = w1(old) + x1y\n",
        "\n",
        "w2(new) = w2(old) + x2y\n",
        "\n",
        "b(new) = b(old) + y\n",
        "\n",
        "1 = 2 x 1 + 4 x -1 + 2\n",
        "\n",
        "w1 = 2 + 1* 1 = 3\n",
        "\n",
        "w2 = 4 + -1* 1 = 3\n",
        "\n",
        "b = 2 + 1 = 3\n",
        "\n"
      ]
    },
    {
      "cell_type": "markdown",
      "metadata": {
        "id": "YTaduWZV3tJk"
      },
      "source": [
        "| X1  | X2  | output | W1 | W2 | B |\n",
        "| --- | --- | ------ | -- | -- | - |\n",
        "| -1   | -1 | -1    |  2 | 2  | 0 |\n",
        "| 1   | 1  | 1    | 3 | 3 | 1 |\n",
        "| -1   | 1  | 1    | 2  |  4 | 2 |\n",
        "| 1  | -1  | 1    | 3  | 3 | 3  | "
      ]
    },
    {
      "cell_type": "markdown",
      "metadata": {
        "id": "VqpSuGSr0imr"
      },
      "source": [
        "Testing for all conditions\n",
        "With weight 3, 3 and bias 3\n",
        "\n",
        "y = w1x1 + w2x2 + b\n",
        "\n",
        "-1 = 3-1 + 3-1 + 3 = -3 < 0 = -1\n",
        "\n",
        "1 = 31 + 31 + 3 = 9 > 0 = 1\n",
        "\n",
        "1 = 3-1 + 3 1 + 3 = 3 > 0 = 1\n",
        "\n",
        "1 = 31 + 3-1 + 3 = 3 > 0 = 1\n",
        "\n",
        "So, We got the output (Y)."
      ]
    }
  ]
}