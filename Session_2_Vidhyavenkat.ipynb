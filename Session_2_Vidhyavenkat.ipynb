{
  "nbformat": 4,
  "nbformat_minor": 0,
  "metadata": {
    "colab": {
      "name": "Session 2  Vidhyavenkat.ipynb",
      "provenance": [],
      "collapsed_sections": []
    },
    "kernelspec": {
      "name": "python3",
      "display_name": "Python 3"
    },
    "language_info": {
      "name": "python"
    }
  },
  "cells": [
    {
      "cell_type": "markdown",
      "metadata": {
        "id": "vJ8OJ-Oc0SxR"
      },
      "source": [
        ""
      ]
    },
    {
      "cell_type": "markdown",
      "metadata": {
        "id": "eT6a5QXswzIy"
      },
      "source": [
        "**1)**\n",
        "\n",
        "y = w1x1 + w2x2 + b\n",
        "\n",
        "Initializing with\n",
        "\n",
        "w1=0,w2=0,b=0\n",
        "w1(new) = w1(old) + x1y\n",
        "\n",
        "w2(new) = w2(old) + x2y\n",
        "\n",
        "b(new) = b(old) + y\n",
        "\n",
        "1 = 0 x 1 + 0 x -1 + 0\n",
        "\n",
        "w1 = 0 + 1* 1 = 1\n",
        "\n",
        "w2 = 0 + -1* 1 = -1\n",
        "\n",
        "b = 0 + 1 = 1"
      ]
    },
    {
      "cell_type": "markdown",
      "metadata": {
        "id": "Y6z8NPIrxuUT"
      },
      "source": [
        "| X1  | X2  | output | W1 | W2 | B |\n",
        "| --- | --- | ------ | -- | -- | - |\n",
        "| 1   | -1 | 1    |  1 | -1  | 1 |\n",
        "| -1   | 1  | 1    |   |   |  |\n",
        "| 1   | 1  | 1    |   |   |  |\n",
        "| -1  | -1  | -1    |   |  |   | "
      ]
    },
    {
      "cell_type": "markdown",
      "metadata": {
        "id": "2uj7J9RNzJiq"
      },
      "source": [
        "w1(new) = w1(old) + x1y\n",
        "\n",
        "w2(new) = w2(old) + x2y\n",
        "\n",
        "b(new) = b(old) + y\n",
        "\n",
        "1 = 1 x -1 + -1 x 1 + 1\n",
        "\n",
        "w1 = 1 + -1* 1 = 0\n",
        "\n",
        "w2 = -1 + 1* 1 = 0\n",
        "\n",
        "b = 1 + 1 = 2\n",
        "\n"
      ]
    },
    {
      "cell_type": "markdown",
      "metadata": {
        "id": "Dv7XyOfvzOzP"
      },
      "source": [
        "| X1  | X2  | output | W1 | W2 | B |\n",
        "| --- | --- | ------ | -- | -- | - |\n",
        "| 1   | -1 | 1    |  1 | -1  | 1 |\n",
        "| -1   | 1  | 1    | 0  | 0 | 2 |\n",
        "| 1   | 1  | 1    |   |   |  |\n",
        "| -1  | -1  | -1    |   |  |   | "
      ]
    },
    {
      "cell_type": "markdown",
      "metadata": {
        "id": "J1olq7jHz_h6"
      },
      "source": [
        "w1(new) = w1(old) + x1y\n",
        "\n",
        "w2(new) = w2(old) + x2y\n",
        "\n",
        "b(new) = b(old) + y\n",
        "\n",
        "1 = 0 x 1 + 0 x 1 + 2\n",
        "\n",
        "w1 = 0 + 1* 1 = 1\n",
        "\n",
        "w2 = 0 + 1* 1 = 1\n",
        "\n",
        "b = 1 + 2 = 3"
      ]
    },
    {
      "cell_type": "markdown",
      "metadata": {
        "id": "hCxHlMzg2L1Q"
      },
      "source": [
        "| X1  | X2  | output | W1 | W2 | B |\n",
        "| --- | --- | ------ | -- | -- | - |\n",
        "| 1   | -1 | 1    |  1 | -1  | 1 |\n",
        "| -1   | 1  | 1    | 0  | 0 | 2 |\n",
        "| 1   | 1  | 1    | 1 |  1 | 3 |\n",
        "| -1  | -1  | -1    |   |  |   | "
      ]
    },
    {
      "cell_type": "markdown",
      "metadata": {
        "id": "pucUecwq2Zcn"
      },
      "source": [
        "w1(new) = w1(old) + x1y\n",
        "\n",
        "w2(new) = w2(old) + x2y\n",
        "\n",
        "b(new) = b(old) + y\n",
        "\n",
        "-1 = 1 x -1 + 1 x -1 + 3\n",
        "\n",
        "w1 = 1 + -1* -1 = 2\n",
        "\n",
        "w2 = 1 + -1* -1 = 2\n",
        "\n",
        "b = 3 - 1 = 2"
      ]
    },
    {
      "cell_type": "markdown",
      "metadata": {
        "id": "m9ca6Kcw2bXf"
      },
      "source": [
        "| X1  | X2  | output | W1 | W2 | B |\n",
        "| --- | --- | ------ | -- | -- | - |\n",
        "| 1   | -1 | 1    |  1 | -1  | 1 |\n",
        "| -1   | 1  | 1    | 0  | 0 | 2 |\n",
        "| 1   | 1  | 1    | 1 |  1 | 3 |\n",
        "| -1  | -1  | -1    | 2  | 2 |  2 | \n"
      ]
    },
    {
      "cell_type": "markdown",
      "metadata": {
        "id": "u08niq2V4jr4"
      },
      "source": [
        "Testing for all conditions\n",
        "With weight 2, 2 and bias 2\n",
        "\n",
        "y = w1x1 + w2x2 + b\n",
        "\n",
        "1 = 21 + 2-1 + 2 = 2 > 0 = 1\n",
        "\n",
        "1 = 2-1 + 21 + 2 = 2 > 0 = 1\n",
        "\n",
        "1 = 21 + 2 1 + 2 = 6 > 0 = 1\n",
        "\n",
        "-1 = 2-1 + 2-1 + 2 = -2 < 0 = -1\n",
        "\n",
        "So, We got the output (Y)."
      ]
    },
    {
      "cell_type": "markdown",
      "metadata": {
        "id": "7CYr1XgQ4mw_"
      },
      "source": [
        "**2)**\n",
        "\n",
        "y = w1x1 + w2x2 + b\n",
        "\n",
        "Initializing with\n",
        "\n",
        "w1=1,w2=1,b=1\n",
        "w1(new) = w1(old) + x1y\n",
        "\n",
        "w2(new) = w2(old) + x2y\n",
        "\n",
        "b(new) = b(old) + y\n",
        "\n",
        "-1 = 1 x -1 + 1 x -1 + 1\n",
        "\n",
        "w1 = 1 + -1* -1 = 2\n",
        "\n",
        "w2 = 1 + -1* -1 = 2\n",
        "\n",
        "b = 1 - 1 = 0\n",
        "\n"
      ]
    },
    {
      "cell_type": "markdown",
      "metadata": {
        "id": "lXg2S6bQCG9T"
      },
      "source": [
        "| X1  | X2  | output | W1 | W2 | B |\n",
        "| --- | --- | ------ | -- | -- | - |\n",
        "| 1   | -1 | 1    |  2 | 2  | 0 |\n",
        "| -1   | 1  | 1    |   |   |  |\n",
        "| 1   | 1  | 1    |   |   |  |\n",
        "| -1  | -1  | -1    |   |  |   | "
      ]
    },
    {
      "cell_type": "markdown",
      "metadata": {
        "id": "Nc9fWmKUCNLj"
      },
      "source": [
        "w1(new) = w1(old) + x1y\n",
        "\n",
        "w2(new) = w2(old) + x2y\n",
        "\n",
        "b(new) = b(old) + y\n",
        "\n",
        "1 = 2 x 1 + 2 x 1 + 0\n",
        "\n",
        "w1 = 2 + 1* 1 = 3\n",
        "\n",
        "w2 = 2 + 1* 1 = 3\n",
        "\n",
        "b = 0 + 1 = 1"
      ]
    },
    {
      "cell_type": "markdown",
      "metadata": {
        "id": "4vefn_03CRBT"
      },
      "source": [
        "| X1  | X2  | output | W1 | W2 | B |\n",
        "| --- | --- | ------ | -- | -- | - |\n",
        "| 1   | -1 | 1    |  2 | 2  | 0 |\n",
        "| -1   | 1  | 1    |  3 |  3 |1  |\n",
        "| 1   | 1  | 1    |   |   |  |\n",
        "| -1  | -1  | -1    |   |  |   | "
      ]
    },
    {
      "cell_type": "markdown",
      "metadata": {
        "id": "3WaLm8xJCXlz"
      },
      "source": [
        "w1(new) = w1(old) + x1y\n",
        "\n",
        "w2(new) = w2(old) + x2y\n",
        "\n",
        "b(new) = b(old) + y\n",
        "\n",
        "1 = 3 x -1 + 3 x 1 + 1\n",
        "\n",
        "w1 = 3 + -1* 1 = 2\n",
        "\n",
        "w2 = 3 + 1* 1 = 4\n",
        "\n",
        "b = 1 + 1 = 2"
      ]
    },
    {
      "cell_type": "markdown",
      "metadata": {
        "id": "OVtsFt8HCazD"
      },
      "source": [
        "| X1  | X2  | output | W1 | W2 | B |\n",
        "| --- | --- | ------ | -- | -- | - |\n",
        "| 1   | -1 | 1    |  2 | 2  | 0 |\n",
        "| -1   | 1  | 1    |  3 |  3 |1  |\n",
        "| 1   | 1  | 1    | 2  |  4 | 2  |\n",
        "| -1  | -1  | -1    |   |  |   | "
      ]
    },
    {
      "cell_type": "markdown",
      "metadata": {
        "id": "KJZ0GZMrCknb"
      },
      "source": [
        "w1(new) = w1(old) + x1y\n",
        "\n",
        "w2(new) = w2(old) + x2y\n",
        "\n",
        "b(new) = b(old) + y\n",
        "\n",
        "1 = 2 x 1 + 4 x -1 + 2\n",
        "\n",
        "w1 = 2 + 1* 1 = 3\n",
        "\n",
        "w2 = 4 + -1* 1 = 3\n",
        "\n",
        "b = 2 + 1 = 3\n",
        "\n"
      ]
    },
    {
      "cell_type": "markdown",
      "metadata": {
        "id": "P0xEA6M9Ctxs"
      },
      "source": [
        "| X1  | X2  | output | W1 | W2 | B |\n",
        "| --- | --- | ------ | -- | -- | - |\n",
        "| 1   | -1 | 1    |  2 | 2  | 0 |\n",
        "| -1   | 1  | 1    |  3 |  3 |1  |\n",
        "| 1   | 1  | 1    | 2  |  4 | 2  |\n",
        "| -1  | -1  | -1    |  3 | 3 | 3   | "
      ]
    },
    {
      "cell_type": "markdown",
      "metadata": {
        "id": "mB_dU9FVC7n7"
      },
      "source": [
        "Testing for all conditions\n",
        "With weight 3, 3 and bias 3\n",
        "\n",
        "y = w1x1 + w2x2 + b\n",
        "\n",
        "-1 = 3-1 + 3-1 + 3 = -3 < 0 = -1\n",
        "\n",
        "1 = 31 + 31 + 3 = 9 > 0 = 1\n",
        "\n",
        "1 = 3-1 + 3 1 + 3 = 3 > 0 = 1\n",
        "\n",
        "1 = 31 + 3-1 + 3 = 3 > 0 = 1\n",
        "\n",
        "So, We got the output (Y)."
      ]
    }
  ]
}