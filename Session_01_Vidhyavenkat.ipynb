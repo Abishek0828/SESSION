{
  "nbformat": 4,
  "nbformat_minor": 0,
  "metadata": {
    "colab": {
      "name": "Session_01_Vidhyavenkat.ipynb",
      "provenance": [],
      "collapsed_sections": []
    },
    "kernelspec": {
      "name": "python3",
      "display_name": "Python 3"
    },
    "language_info": {
      "name": "python"
    }
  },
  "cells": [
    {
      "cell_type": "markdown",
      "metadata": {
        "id": "Vsr0RuxF8gTt"
      },
      "source": [
        "#Workouts for the ML intro session\n"
      ]
    },
    {
      "cell_type": "markdown",
      "metadata": {
        "id": "VMrfCQbT8t-K"
      },
      "source": [
        "##Complete all the cells and upload the note book to github\n",
        "\n",
        "**Kindly use your own explanations and examples. you refer the internet but try to explain things with your own words and examples**\n"
      ]
    },
    {
      "cell_type": "markdown",
      "metadata": {
        "id": "4TiM_moD8-V_"
      },
      "source": [
        "\n",
        "\n",
        "1.  Will machine overtake humans in near future ? if yes explain why ? if not explain what prevents machines to learn/perform at human level ?\n",
        "              yes.Machines will defanetly overtake humans in future.Even nowadays all works are getting automatted.IN future mostly all the works will become automatic due to development of machine learning.\n",
        "\n",
        "\n"
      ]
    },
    {
      "cell_type": "markdown",
      "metadata": {
        "id": "W9aIe-Pl9uED"
      },
      "source": [
        "2. What recent development you think is very important or inspiring in machine learning/AI field ? just few words on any one or two\n",
        "         SIRI is an inspiring machine learning technique I had seen .It is mainly based io speech recognisation technique."
      ]
    },
    {
      "cell_type": "markdown",
      "metadata": {
        "id": "XcQoFPwg-ChB"
      },
      "source": [
        "3. What is the differnce between regular programming or machine learning ?\n",
        "                 In regular programming,we can manuvally create a logic.whereas in machine learning it is based on algorithm."
      ]
    },
    {
      "cell_type": "markdown",
      "metadata": {
        "id": "gJXmTK0r-Ydb"
      },
      "source": [
        "4. What is model is machine learning ?\n",
        "               It is nothing but a file which we will trained that model by the data sets and patterns.These model will automatically learn form the datasets by means of algorithms."
      ]
    },
    {
      "cell_type": "markdown",
      "metadata": {
        "id": "XGuClocF-dRX"
      },
      "source": [
        "5. how/where machine learning stores its learning ? \n",
        "             It stores it learning by means of data and patterns."
      ]
    },
    {
      "cell_type": "markdown",
      "metadata": {
        "id": "SFVwc5jC-oDE"
      },
      "source": [
        "6. What is training ?\n",
        "          It refers to training the model by the previously stored data."
      ]
    },
    {
      "cell_type": "markdown",
      "metadata": {
        "id": "BDx5DiJ4-ro_"
      },
      "source": [
        "7. what is reinforcement learning ?\n",
        "             It is a type of machine learning technique where the model is trained by trial and error.It will learn by its own experience."
      ]
    },
    {
      "cell_type": "markdown",
      "metadata": {
        "id": "hYk7xK_Z-9dN"
      },
      "source": [
        "8. Give use cases for classification, clustering and regression ?\n",
        "           classsification-classify the discrete values-Ex:-true or false.\n",
        "           clustering-Grouping based on similar characteristics-Ex:-features of fruits and vegetables etc.\n",
        "           regression-continuous values-Ex:-age.\n",
        "\n"
      ]
    },
    {
      "cell_type": "markdown",
      "metadata": {
        "id": "k0YwsEGa_baZ"
      },
      "source": [
        "9. What is dimension ? will more dimension be helpful to improve a machine learning model ? \n",
        "                The number of input values or features of data set is called as dimension.No,More dimension will not helpfull to improve a machine learning model."
      ]
    },
    {
      "cell_type": "markdown",
      "metadata": {
        "id": "-od_1BPK_ktN"
      },
      "source": [
        "10. what is hypothetical space ? explain with an example\n",
        "                       This is the set from which the possible data which suits the features and output."
      ]
    }
  ]
}