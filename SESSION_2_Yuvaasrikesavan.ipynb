{
  "nbformat": 4,
  "nbformat_minor": 0,
  "metadata": {
    "colab": {
      "name": "SESSION 2 Yuvaasrikesavan.ipynb",
      "provenance": [],
      "collapsed_sections": []
    },
    "kernelspec": {
      "name": "python3",
      "display_name": "Python 3"
    },
    "language_info": {
      "name": "python"
    }
  },
  "cells": [
    {
      "cell_type": "markdown",
      "metadata": {
        "id": "Vn_yYtpoxi7N"
      },
      "source": [
        "1) WORKOUT\n",
        "\n",
        "\n",
        "y = w1x1 + w2x2 + b\n",
        "Initializing with\n",
        "\n",
        "w1=0,w2=0,b=0\n",
        "w1(new) = w1(old) + x1y\n",
        "\n",
        "w2(new) = w2(old) + x2y\n",
        "\n",
        "b(new) = b(old) + y\n",
        "\n",
        "1 = 0 x 1 + 0 x -1 + 0\n",
        "\n",
        "w1 = 0 + 1* 1 = 1\n",
        "\n",
        "w2 = 0 + -1* 1 = -1\n",
        "\n",
        "b = 0 + 1 = 1"
      ]
    },
    {
      "cell_type": "markdown",
      "metadata": {
        "id": "KWozst88xvqV"
      },
      "source": [
        "| X1  | X2  | output | W1 | W2 | B |\n",
        "| --- | --- | ------ | -- | -- | - |\n",
        "| 1   | -1 | 1    |  1 | -1  | 1 |\n",
        "| -1   | 1  | 1    |   |   |  |\n",
        "| 1   | 1  | 1    |   |   |  |\n",
        "| -1  | -1  | -1    |   |  |   | "
      ]
    },
    {
      "cell_type": "markdown",
      "metadata": {
        "id": "XPRB2Nlmy-Rm"
      },
      "source": [
        "w1(new) = w1(old) + x1y\n",
        "\n",
        "w2(new) = w2(old) + x2y\n",
        "\n",
        "b(new) = b(old) + y\n",
        "\n",
        "1 = 1 x -1 + -1 x 1 + 1\n",
        "\n",
        "w1 = 1 + -1* 1 = 0\n",
        "\n",
        "w2 = -1 + 1* 1 = 0\n",
        "\n",
        "b = 1 + 1 = 2"
      ]
    },
    {
      "cell_type": "markdown",
      "metadata": {
        "id": "KKRJD0knzQGM"
      },
      "source": [
        "| X1  | X2  | output | W1 | W2 | B |\n",
        "| --- | --- | ------ | -- | -- | - |\n",
        "| 1   | -1 | 1    |  1 | -1  | 1 |\n",
        "| -1   | 1  | 1    | 0  | 0  | 2 |\n",
        "| 1   | 1  | 1    |   |   |  |\n",
        "| -1  | -1  | -1    |   |  |   | "
      ]
    },
    {
      "cell_type": "markdown",
      "metadata": {
        "id": "KlvjSvsJzXzf"
      },
      "source": [
        "w1(new) = w1(old) + x1y\n",
        "\n",
        "w2(new) = w2(old) + x2y\n",
        "\n",
        "b(new) = b(old) + y\n",
        "\n",
        "1 = 0 x 1 + 0 x 1 + 2\n",
        "\n",
        "w1 = 0 + 1* 1 = 1\n",
        "\n",
        "w2 = 0 + 1* 1 = 1\n",
        "\n",
        "b = 1 + 2 = 3"
      ]
    },
    {
      "cell_type": "markdown",
      "metadata": {
        "id": "L5PvVM8XzgFL"
      },
      "source": [
        "| X1  | X2  | output | W1 | W2 | B |\n",
        "| --- | --- | ------ | -- | -- | - |\n",
        "| 1   | -1 | 1    |  1 | -1  | 1 |\n",
        "| -1   | 1  | 1    | 0  | 0  | 2 |\n",
        "| 1   | 1  | 1    | 1  |  1 | 3 |\n",
        "| -1  | -1  | -1    |   |  |   | "
      ]
    },
    {
      "cell_type": "markdown",
      "metadata": {
        "id": "v7Y_UgG8zqrv"
      },
      "source": [
        "w1(new) = w1(old) + x1y\n",
        "\n",
        "w2(new) = w2(old) + x2y\n",
        "\n",
        "b(new) = b(old) + y\n",
        "\n",
        "-1 = 1 x -1 + 1 x -1 + 3\n",
        "\n",
        "w1 = 1 + -1* -1 = 2\n",
        "\n",
        "w2 = 1 + -1* -1 = 2\n",
        "\n",
        "b = 3 - 1 = 2"
      ]
    },
    {
      "cell_type": "markdown",
      "metadata": {
        "id": "NMkTOPBFzwNQ"
      },
      "source": [
        "| X1  | X2  | output | W1 | W2 | B |\n",
        "| --- | --- | ------ | -- | -- | - |\n",
        "| 1   | -1 | 1    |  1 | -1  | 1 |\n",
        "| -1   | 1  | 1    | 0  | 0  | 2 |\n",
        "| 1   | 1  | 1    | 1  |  1 | 3 |\n",
        "| -1  | -1  | -1    | 2  | 2 | 2  | "
      ]
    },
    {
      "cell_type": "markdown",
      "metadata": {
        "id": "b3lRm_BLz5Ew"
      },
      "source": [
        "Testing for all conditions\n",
        "With weight 2, 2 and bias 2\n",
        "\n",
        "y = w1x1 + w2x2 + b\n",
        "\n",
        "1 = 21 + 2-1 + 2 = 2 > 0 = 1\n",
        "\n",
        "1 = 2-1 + 21 + 2 = 2 > 0 = 1\n",
        "\n",
        "1 = 21 + 2 1 + 2 = 6 > 0 = 1\n",
        "\n",
        "-1 = 2-1 + 2-1 + 2 = -2 < 0 = -1\n",
        "\n",
        "So, We got the output (Y)."
      ]
    },
    {
      "cell_type": "markdown",
      "metadata": {
        "id": "iUu01shi1aC0"
      },
      "source": [
        "2) Workout Changing (ROWS)\n",
        "\n",
        "\n",
        "y = w1x1 + w2x2 + b\n",
        "Initializing with\n",
        "\n",
        "w1=1,w2=1,b=1\n",
        "w1(new) = w1(old) + x1y\n",
        "\n",
        "w2(new) = w2(old) + x2y\n",
        "\n",
        "b(new) = b(old) + y\n",
        "\n",
        "-1 = 1 x -1 + 1 x -1 + 1\n",
        "\n",
        "w1 = 1 + -1* -1 = 2\n",
        "\n",
        "w2 = 1 + -1* -1 = 2\n",
        "\n",
        "b = 1 - 1 = 0\n",
        "\n"
      ]
    },
    {
      "cell_type": "markdown",
      "metadata": {
        "id": "DDdhZvbe1kyn"
      },
      "source": [
        "| X1  | X2  | output | W1 | W2 | B |\n",
        "| --- | --- | ------ | -- | -- | - |\n",
        "| -1   | -1 | -1    |  2 | 2  | 0 |\n",
        "| 1   | 1  | 1    |   |   |  |\n",
        "| -1   | 1  | 1    |   |   |  |\n",
        "| 1  | -1  | 1    |   |  |   |"
      ]
    },
    {
      "cell_type": "markdown",
      "metadata": {
        "id": "mFPCnrRQ2Hsv"
      },
      "source": [
        "w1(new) = w1(old) + x1y\n",
        "\n",
        "w2(new) = w2(old) + x2y\n",
        "\n",
        "b(new) = b(old) + y\n",
        "\n",
        "1 = 2 x 1 + 2 x 1 + 0\n",
        "\n",
        "w1 = 2 + 1* 1 = 3\n",
        "\n",
        "w2 = 2 + 1* 1 = 3\n",
        "\n",
        "b = 0 + 1 = 1"
      ]
    },
    {
      "cell_type": "markdown",
      "metadata": {
        "id": "U_zC-iXQ1fTL"
      },
      "source": [
        "| X1  | X2  | output | W1 | W2 | B |\n",
        "| --- | --- | ------ | -- | -- | - |\n",
        "| -1   | -1 | -1    |  2 | 2  | 0 |\n",
        "| 1   | 1  | 1    |  3 | 3  | 1 |\n",
        "| -1   | 1  | 1    |   |   |  |\n",
        "| 1  | -1  | 1    |   |  |   |"
      ]
    },
    {
      "cell_type": "markdown",
      "metadata": {
        "id": "xixczKXm2fk8"
      },
      "source": [
        "w1(new) = w1(old) + x1y\n",
        "\n",
        "w2(new) = w2(old) + x2y\n",
        "\n",
        "b(new) = b(old) + y\n",
        "\n",
        "1 = 3 x -1 + 3 x 1 + 1\n",
        "\n",
        "w1 = 3 + -1* 1 = 2\n",
        "\n",
        "w2 = 3 + 1* 1 = 4\n",
        "\n",
        "b = 1 + 1 = 2"
      ]
    },
    {
      "cell_type": "markdown",
      "metadata": {
        "id": "yaUFh6cU2ela"
      },
      "source": [
        "| X1  | X2  | output | W1 | W2 | B |\n",
        "| --- | --- | ------ | -- | -- | - |\n",
        "| -1   | -1 | -1    |  2 | 2  | 0 |\n",
        "| 1   | 1  | 1    |  3 | 3  | 1 |\n",
        "| -1   | 1  | 1    |  2 | 4  | 2 |\n",
        "| 1  | -1  | 1    |   |  |   |"
      ]
    },
    {
      "cell_type": "markdown",
      "metadata": {
        "id": "-zv5VpXc2sLN"
      },
      "source": [
        "w1(new) = w1(old) + x1y\n",
        "\n",
        "w2(new) = w2(old) + x2y\n",
        "\n",
        "b(new) = b(old) + y\n",
        "\n",
        "1 = 2 x 1 + 4 x -1 + 2\n",
        "\n",
        "w1 = 2 + 1* 1 = 3\n",
        "\n",
        "w2 = 4 + -1* 1 = 3\n",
        "\n",
        "b = 2 + 1 = 3"
      ]
    },
    {
      "cell_type": "markdown",
      "metadata": {
        "id": "z_UzkL8S2rH4"
      },
      "source": [
        "| X1  | X2  | output | W1 | W2 | B |\n",
        "| --- | --- | ------ | -- | -- | - |\n",
        "| -1   | -1 | -1    |  2 | 2  | 0 |\n",
        "| 1   | 1  | 1    |  3 | 3  | 1 |\n",
        "| -1   | 1  | 1    |  2 | 4  | 2 |\n",
        "| 1  | -1  | 1    |  3 | 3 |  3 |"
      ]
    },
    {
      "cell_type": "markdown",
      "metadata": {
        "id": "xzaIuRiH24MT"
      },
      "source": [
        "Testing for all conditions\n",
        "\n",
        "\n",
        "With weight 3, 3 and bias 3\n",
        "\n",
        "y = w1x1 + w2x2 + b\n",
        "\n",
        "-1 = 3-1 + 3-1 + 3 = -3 < 0 = -1\n",
        "\n",
        "1 = 31 + 31 + 3 = 9 > 0 = 1\n",
        "\n",
        "1 = 3-1 + 3 1 + 3 = 3 > 0 = 1\n",
        "\n",
        "1 = 31 + 3-1 + 3 = 3 > 0 = 1\n",
        "\n",
        "So, We got the output (Y)."
      ]
    }
  ]
}