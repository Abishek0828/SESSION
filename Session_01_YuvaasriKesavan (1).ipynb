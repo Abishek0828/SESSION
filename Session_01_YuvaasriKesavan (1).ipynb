{
  "nbformat": 4,
  "nbformat_minor": 0,
  "metadata": {
    "colab": {
      "name": "Session_01_YuvaasriKesavan.ipynb",
      "provenance": [],
      "collapsed_sections": []
    },
    "kernelspec": {
      "name": "python3",
      "display_name": "Python 3"
    },
    "language_info": {
      "name": "python"
    }
  },
  "cells": [
    {
      "cell_type": "markdown",
      "metadata": {
        "id": "Vsr0RuxF8gTt"
      },
      "source": [
        "#Workouts for the ML intro session\n"
      ]
    },
    {
      "cell_type": "markdown",
      "metadata": {
        "id": "VMrfCQbT8t-K"
      },
      "source": [
        "##Complete all the cells and upload the note book to github\n",
        "\n",
        "**Kindly use your own explanations and examples. you refer the internet but try to explain things with your own words and examples**\n"
      ]
    },
    {
      "cell_type": "markdown",
      "metadata": {
        "id": "4TiM_moD8-V_"
      },
      "source": [
        "\n",
        "\n",
        "1.  Will machine overtake humans in near future ? if yes explain why ? if not explain what prevents machines to learn/perform at human level ?\n",
        "              Yes,robots will replace humans for many jobs , just as innovation farming equipment replaced humans and horses during industrial revolution\n",
        "\n",
        "\n",
        "\n"
      ]
    },
    {
      "cell_type": "markdown",
      "metadata": {
        "id": "W9aIe-Pl9uED"
      },
      "source": [
        "2. What recent development you think is very important or inspiring in machine learning/AI field ? just few words on any one or two\n",
        "                Program are being developed that uses machine learning to develope better machine learning called automated machine learning, it is described as democratizeing machine learning "
      ]
    },
    {
      "cell_type": "markdown",
      "metadata": {
        "id": "XcQoFPwg-ChB"
      },
      "source": [
        "3. What is the differnce between regular programming or machine learning \n",
        "                   Regular code is manual process, programmer create the program . In machine learning , the alogorithm automatically formulates the rules form data \n",
        "\n",
        "\n",
        "\n",
        "\n",
        "\n"
      ]
    },
    {
      "cell_type": "markdown",
      "metadata": {
        "id": "gJXmTK0r-Ydb"
      },
      "source": [
        "4. What is model is machine learning ?\n",
        "        A machine learning model is a file that has been trained to recognise certian types of patterns. You train a model over a set of data , providing it an alogorithm that it can use to reason over and learn from those data."
      ]
    },
    {
      "cell_type": "markdown",
      "metadata": {
        "id": "XGuClocF-dRX"
      },
      "source": [
        "5. how/where machine learning stores its learning ? \n",
        "                    No, you dont store input or output values but internal state of the algorithm. For example A neutral network , which us often used for face recognise and such has number of variable internally that change as the model learns "
      ]
    },
    {
      "cell_type": "markdown",
      "metadata": {
        "id": "SFVwc5jC-oDE"
      },
      "source": [
        "6. What is training ?\n",
        "           Training is maodel simply means learning good values for all the weights and the bias from labeled examples"
      ]
    },
    {
      "cell_type": "markdown",
      "metadata": {
        "id": "BDx5DiJ4-ro_"
      },
      "source": [
        "7. what is reinforcement learning ?\n",
        "                    reinforcement learning is an of machine learning concered with how intelligent agents ought to take action in an environment in order to maximize the notion of cumulative reward."
      ]
    },
    {
      "cell_type": "markdown",
      "metadata": {
        "id": "hYk7xK_Z-9dN"
      },
      "source": [
        "8. Give use cases for classification, clustering and regression ?\n",
        "                 \n",
        "\n",
        "*   Classification:Classification is problem of identifying to which of a set of categories a new observation belongs , on the basis of a training set.\n",
        "*   Clustering:Clustering is the task of grouping a set of objects in such a way .\n",
        "\n",
        "*   Regression:Regression is a process for estimating the relationship among variables.\n",
        "\n",
        "\n",
        "\n",
        "\n"
      ]
    },
    {
      "cell_type": "markdown",
      "metadata": {
        "id": "k0YwsEGa_baZ"
      },
      "source": [
        "9. What is dimension ? will more dimension be helpful to improve a machine learning model ? \n",
        "                 The number of input variables or features for a dataset is referred as its dimensionality."
      ]
    },
    {
      "cell_type": "markdown",
      "metadata": {
        "id": "-od_1BPK_ktN"
      },
      "source": [
        "10. what is hypothetical space ? explain with an example\n",
        "                   Hypothetical space is set of all the possible legal hypothesis.This is set from which the machine learning algorithm would determine the best possible which would best describe the target function or the output"
      ]
    }
  ]
}