{
  "nbformat": 4,
  "nbformat_minor": 0,
  "metadata": {
    "colab": {
      "name": "Session2 Vaishnavirajam.ipynb",
      "provenance": [],
      "collapsed_sections": []
    },
    "kernelspec": {
      "name": "python3",
      "display_name": "Python 3"
    },
    "language_info": {
      "name": "python"
    }
  },
  "cells": [
    {
      "cell_type": "markdown",
      "metadata": {
        "id": "FHIukctO4LTG"
      },
      "source": [
        "1) Workout\n",
        "\n",
        "y = w1x1 + w2x2 + b\n",
        "Initializing with\n",
        "\n",
        "w1=0,w2=0,b=0\n",
        "w1(new) = w1(old) + x1y\n",
        "\n",
        "w2(new) = w2(old) + x2y\n",
        "\n",
        "b(new) = b(old) + y\n",
        "\n",
        "1 = 0 x 1 + 0 x -1 + 0\n",
        "\n",
        "w1 = 0 + 1* 1 = 1\n",
        "\n",
        "w2 = 0 + -1* 1 = -1\n",
        "\n",
        "b = 0 + 1 = 1"
      ]
    },
    {
      "cell_type": "markdown",
      "metadata": {
        "id": "IkOXQ3rd4i5u"
      },
      "source": [
        "| X1  | X2  | output | W1 | W2 | B |\n",
        "| --- | --- | ------ | -- | -- | - |\n",
        "| 1   | -1 | 1    |  1 | -1  | 1 |\n",
        "| -1   | 1  | 1    |   |   |  |\n",
        "| 1   | 1  | 1    |   |   |  |\n",
        "| -1  | -1  | -1    |   |  |   | "
      ]
    },
    {
      "cell_type": "markdown",
      "metadata": {
        "id": "IIeZKmRl4_JI"
      },
      "source": [
        "Row 2\n",
        "w1(new) = w1(old) + x1y\n",
        "\n",
        "w2(new) = w2(old) + x2y\n",
        "\n",
        "b(new) = b(old) + y\n",
        "\n",
        "1 = 1 x -1 + -1 x 1 + 1\n",
        "\n",
        "w1 = 1 + -1* 1 = 0\n",
        "\n",
        "w2 = -1 + 1* 1 = 0\n",
        "\n",
        "b = 1 + 1 = 2"
      ]
    },
    {
      "cell_type": "markdown",
      "metadata": {
        "id": "bb7tqSx75QV-"
      },
      "source": [
        "| X1  | X2  | output | W1 | W2 | B |\n",
        "| --- | --- | ------ | -- | -- | - |\n",
        "| 1   | 1   | 1      | 1  | 1  | 1 |\n",
        "| 1   | \\-1 | \\-1    |    |    |   |\n",
        "| \\-1 | 1   | \\-1    |    |    |   |\n",
        "| \\-1 | \\-1 | \\-1    |    |    |   | "
      ]
    },
    {
      "cell_type": "markdown",
      "metadata": {
        "id": "Wnv_W95b6Ch5"
      },
      "source": [
        "Row 3\n",
        "w1(new) = w1(old) + x1y\n",
        "\n",
        "w2(new) = w2(old) + x2y\n",
        "\n",
        "b(new) = b(old) + y\n",
        "\n",
        "1 = 0 x 1 + 0 x 1 + 2\n",
        "\n",
        "w1 = 0 + 1* 1 = 1\n",
        "\n",
        "w2 = 0 + 1* 1 = 1\n",
        "\n",
        "b = 1 + 2 = 3"
      ]
    },
    {
      "cell_type": "markdown",
      "metadata": {
        "id": "pP0di7QJ6IK4"
      },
      "source": [
        "| X1  | X2  | output | W1 | W2 | B |\n",
        "| --- | --- | ------ | -- | -- | - |\n",
        "| 1   | -1   | 1      | 1  | -1  | 1 |\n",
        "| -1   | 1 | 1    | 0  | 0  | 2 |\n",
        "| 1 | 1   | 1    |   1 | 1   | 3  |\n",
        "| \\-1 | \\-1 | \\-1    |    |    |   | "
      ]
    },
    {
      "cell_type": "markdown",
      "metadata": {
        "id": "liesmVFS7c0V"
      },
      "source": [
        "Row 4\n",
        "w1(new) = w1(old) + x1y\n",
        "\n",
        "w2(new) = w2(old) + x2y\n",
        "\n",
        "b(new) = b(old) + y\n",
        "\n",
        "-1 = 1 x -1 + 1 x -1 + 3\n",
        "\n",
        "w1 = 1 + -1* -1 = 2\n",
        "\n",
        "w2 = 1 + -1* -1 = 2\n",
        "\n",
        "b = 3 - 1 = 2"
      ]
    },
    {
      "cell_type": "markdown",
      "metadata": {
        "id": "C-7P8JG27mH2"
      },
      "source": [
        "| X1  | X2  | output | W1 | W2 | B |\n",
        "| --- | --- | ------ | -- | -- | - |\n",
        "| 1   | -1   | 1      | 1  | -1  | 1 |\n",
        "| -1   | 1 | 1    | 0  | 0  | 2 |\n",
        "| 1 | 1   | 1    | 1   | 1   | 3  |\n",
        "| \\-1 | \\-1 | \\-1    |   2 |  2  | 2  | "
      ]
    },
    {
      "cell_type": "markdown",
      "metadata": {
        "id": "Np1QeZMO8CAC"
      },
      "source": [
        "Testing for all conditions\n",
        "With weight 3, 3 and bias 3\n",
        "\n",
        "y = w1x1 + w2x2 + b\n",
        "\n",
        "-1 = 3-1 + 3-1 + 3 = -3 < 0 = -1\n",
        "\n",
        "1 = 31 + 31 + 3 = 9 > 0 = 1\n",
        "\n",
        "1 = 3-1 + 3 1 + 3 = 3 > 0 = 1\n",
        "\n",
        "1 = 31 + 3-1 + 3 = 3 > 0 = 1\n",
        "\n",
        "So, We got the output (Y)."
      ]
    }
  ]
}