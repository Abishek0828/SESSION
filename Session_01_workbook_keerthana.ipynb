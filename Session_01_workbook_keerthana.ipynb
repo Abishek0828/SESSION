{
  "nbformat": 4,
  "nbformat_minor": 0,
  "metadata": {
    "colab": {
      "name": "Session_01_workbook.ipynb",
      "provenance": [],
      "collapsed_sections": []
    },
    "kernelspec": {
      "name": "python3",
      "display_name": "Python 3"
    },
    "language_info": {
      "name": "python"
    }
  },
  "cells": [
    {
      "cell_type": "markdown",
      "metadata": {
        "id": "Vsr0RuxF8gTt"
      },
      "source": [
        "#Workouts for the ML intro session\n"
      ]
    },
    {
      "cell_type": "markdown",
      "metadata": {
        "id": "VMrfCQbT8t-K"
      },
      "source": [
        "##Complete all the cells and upload the note book to github\n",
        "\n",
        "**Kindly use your own explanations and examples. you refer the internet but try to explain things with your own words and examples**\n"
      ]
    },
    {
      "cell_type": "markdown",
      "metadata": {
        "id": "4TiM_moD8-V_"
      },
      "source": [
        "1.  Will machine overtake humans in near future ? if yes explain why ? if not explain what prevents machines to learn/perform at human level ?\n",
        "\n",
        "     Yes, machines will take over the world in the near future. We have already started to become fully dependent on machines for basic things in our life. In the future, almost all jobs will be taken by machines for works.\n",
        "\n",
        "\n"
      ]
    },
    {
      "cell_type": "markdown",
      "metadata": {
        "id": "W9aIe-Pl9uED"
      },
      "source": [
        "2. What recent development you think is very important or inspiring in machine learning/AI field ? just few words on any one or two\n",
        "    \n",
        "    Based on recent technologies in AI, I think Robotics is important. It inspires me. It improves our lives and solve the problems. It is very important because one day, it may be completely change the world."
      ]
    },
    {
      "cell_type": "markdown",
      "metadata": {
        "id": "XcQoFPwg-ChB"
      },
      "source": [
        "3. What is the differnce between regular programming or machine learning ?\n",
        "    \n",
        "     Regular programming is to create the program that uses the input data and run onn a computer to produce the output. It is a manual process.\n",
        "     In Machine learning, the input and output gave to an algorithm to create a program. It comes under Artificial Intelligence.\n",
        "     "
      ]
    },
    {
      "cell_type": "markdown",
      "metadata": {
        "id": "gJXmTK0r-Ydb"
      },
      "source": [
        "4. What is model is machine learning ?\n",
        "     \n",
        "     A model in machine learning is the output of the training process and is defines as the mathematical representation of the real-world process. A model is what you build by using the algorithm."
      ]
    },
    {
      "cell_type": "markdown",
      "metadata": {
        "id": "XGuClocF-dRX"
      },
      "source": [
        "5. how/where machine learning stores its learning ? \n",
        "\n",
        "     The learning of the machine learning is stored in the parameters."
      ]
    },
    {
      "cell_type": "markdown",
      "metadata": {
        "id": "SFVwc5jC-oDE"
      },
      "source": [
        "6. What is training ? \n",
        "\n",
        "     Training is the process of creating a machine learing algorithm. Training involves the use of a deep-learing framework. "
      ]
    },
    {
      "cell_type": "markdown",
      "metadata": {
        "id": "BDx5DiJ4-ro_"
      },
      "source": [
        "7. what is reinforcement learning ?\n",
        "\n",
        "     Reinforcement learning is to learn to do a task by taking actions and maximizing the reward resulting from those actions."
      ]
    },
    {
      "cell_type": "markdown",
      "metadata": {
        "id": "hYk7xK_Z-9dN"
      },
      "source": [
        "8. Give use cases for classification, clustering and regression ?\n",
        "\n",
        "     Classification is a type of supervised learning algorithm. For any given input, the classification algorithms help in the prediction of the class of the output variable.\n",
        "     Clustering is a type of unsupervised learning algorithm. It is used to group data points having similar charcteristics as clusters.\n",
        "     Regression is also a type of supervised learning algorithm. It predicts continuous valued output."
      ]
    },
    {
      "cell_type": "markdown",
      "metadata": {
        "id": "k0YwsEGa_baZ"
      },
      "source": [
        "9. What is dimension ? will more dimension be helpful to improve a machine learning model ? \n",
        "\n",
        "     Dimension is a technique that reduce the number of input variables in a dataset.\n",
        "     More dimension can impact the performance of machine learning algorithm."
      ]
    },
    {
      "cell_type": "markdown",
      "metadata": {
        "id": "-od_1BPK_ktN"
      },
      "source": [
        "10. what is hypothetical space ? explain with an example\n",
        "\n",
        "     The hypothetical space is the set of all functions that can be returned by a model. For example, a perceptron can only return functions that map every point on one side of a hyper plane to 0 and the other side to 1."
      ]
    }
  ]
}